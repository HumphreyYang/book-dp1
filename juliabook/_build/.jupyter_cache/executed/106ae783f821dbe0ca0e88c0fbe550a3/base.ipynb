{
 "cells": [
  {
   "cell_type": "code",
   "execution_count": 1,
   "id": "d17fd2ef",
   "metadata": {
    "tags": [
     "remove-cell"
    ]
   },
   "outputs": [
    {
     "name": "stderr",
     "output_type": "stream",
     "text": [
      "\u001b[32m\u001b[1m  Activating\u001b[22m\u001b[39m project at `D:\\GitHub\\book-dp1`"
     ]
    },
    {
     "name": "stderr",
     "output_type": "stream",
     "text": [
      "\n"
     ]
    }
   ],
   "source": [
    "using Pkg;\n",
    "Pkg.activate(\"../\");\n",
    "\n",
    "using PyCall;\n",
    "pygui(:tk);"
   ]
  },
  {
   "cell_type": "code",
   "execution_count": 2,
   "id": "65538020",
   "metadata": {
    "tags": [
     "hide-input"
    ]
   },
   "outputs": [
    {
     "ename": "LoadError",
     "evalue": "ArgumentError: Package CSV not found in current path.\n- Run `import Pkg; Pkg.add(\"CSV\")` to install the CSV package.",
     "output_type": "error",
     "traceback": [
      "ArgumentError: Package CSV not found in current path.\n- Run `import Pkg; Pkg.add(\"CSV\")` to install the CSV package.",
      "",
      "Stacktrace:",
      " [1] macro expansion",
      "   @ .\\loading.jl:1630 [inlined]",
      " [2] macro expansion",
      "   @ .\\lock.jl:267 [inlined]",
      " [3] require(into::Module, mod::Symbol)",
      "   @ Base .\\loading.jl:1611"
     ]
    }
   ],
   "source": [
    "# Nominal interest rate from https://fred.stlouisfed.org/series/GS1\n",
    "# Real interest rate from https://fred.stlouisfed.org/series/WFII10\n",
    "#\n",
    "# Download as CSV files\n",
    "#\n",
    "\n",
    "using DataFrames, CSV, PyPlot\n",
    "\n",
    "df_nominal = DataFrame(CSV.File(\"data/GS1.csv\"))\n",
    "df_real = DataFrame(CSV.File(\"data/WFII10.csv\"))\n",
    "\n",
    "function plot_rates(df; fontsize=16, savefig=true)\n",
    "    r_type = df == df_nominal ? \"nominal\" : \"real\"\n",
    "    fig, ax = plt.subplots(figsize=(9, 5))\n",
    "    ax.plot(df[!, 1], df[!, 2], label=r_type*\" interest rate\")\n",
    "    ax.plot(df[!, 1], zero(df[!, 2]), c=\"k\", ls=\"--\")\n",
    "    ax.set_xlim(df[1, 1], df[end, 1])\n",
    "    ax.legend(fontsize=fontsize, frameon=false)\n",
    "    plt.show()\n",
    "    if savefig\n",
    "        fig.savefig(\"../figures/plot_interest_rates_\"*r_type*\".pdf\")\n",
    "    end\n",
    "end\n",
    "\n",
    "plot_rates(df_nominal, savefig=true)\n",
    "\n",
    "plot_rates(df_real, savefig=true)"
   ]
  },
  {
   "cell_type": "code",
   "execution_count": 3,
   "id": "c3eec763",
   "metadata": {
    "tags": [
     "hide-input"
    ]
   },
   "outputs": [
    {
     "name": "stderr",
     "output_type": "stream",
     "text": [
      "sys:1: UserWarning: Matplotlib is currently using agg, which is a non-GUI backend, so cannot show the figure.\r\n"
     ]
    },
    {
     "ename": "LoadError",
     "evalue": "PyError ($(Expr(:escape, :(ccall(#= C:\\Users\\orect\\.julia\\packages\\PyCall\\ilqDX\\src\\pyfncall.jl:43 =# @pysym(:PyObject_Call), PyPtr, (PyPtr, PyPtr, PyPtr), o, pyargsptr, kw))))) <class 'RuntimeError'>\nRuntimeError('Failed to process string with tex because latex could not be found')\n  File \"C:\\Users\\orect\\.julia\\conda\\3\\x86_64\\lib\\site-packages\\matplotlib\\figure.py\", line 3378, in savefig\n    self.canvas.print_figure(fname, **kwargs)\n  File \"C:\\Users\\orect\\.julia\\conda\\3\\x86_64\\lib\\site-packages\\matplotlib\\backend_bases.py\", line 2366, in print_figure\n    result = print_method(\n  File \"C:\\Users\\orect\\.julia\\conda\\3\\x86_64\\lib\\site-packages\\matplotlib\\backend_bases.py\", line 2232, in <lambda>\n    print_method = functools.wraps(meth)(lambda *args, **kwargs: meth(\n  File \"C:\\Users\\orect\\.julia\\conda\\3\\x86_64\\lib\\site-packages\\matplotlib\\backends\\backend_pdf.py\", line 2820, in print_pdf\n    self.figure.draw(renderer)\n  File \"C:\\Users\\orect\\.julia\\conda\\3\\x86_64\\lib\\site-packages\\matplotlib\\artist.py\", line 95, in draw_wrapper\n    result = draw(artist, renderer, *args, **kwargs)\n  File \"C:\\Users\\orect\\.julia\\conda\\3\\x86_64\\lib\\site-packages\\matplotlib\\artist.py\", line 72, in draw_wrapper\n    return draw(artist, renderer)\n  File \"C:\\Users\\orect\\.julia\\conda\\3\\x86_64\\lib\\site-packages\\matplotlib\\figure.py\", line 3175, in draw\n    mimage._draw_list_compositing_images(\n  File \"C:\\Users\\orect\\.julia\\conda\\3\\x86_64\\lib\\site-packages\\matplotlib\\image.py\", line 131, in _draw_list_compositing_images\n    a.draw(renderer)\n  File \"C:\\Users\\orect\\.julia\\conda\\3\\x86_64\\lib\\site-packages\\matplotlib\\artist.py\", line 72, in draw_wrapper\n    return draw(artist, renderer)\n  File \"C:\\Users\\orect\\.julia\\conda\\3\\x86_64\\lib\\site-packages\\matplotlib\\axes\\_base.py\", line 3064, in draw\n    mimage._draw_list_compositing_images(\n  File \"C:\\Users\\orect\\.julia\\conda\\3\\x86_64\\lib\\site-packages\\matplotlib\\image.py\", line 131, in _draw_list_compositing_images\n    a.draw(renderer)\n  File \"C:\\Users\\orect\\.julia\\conda\\3\\x86_64\\lib\\site-packages\\matplotlib\\artist.py\", line 72, in draw_wrapper\n    return draw(artist, renderer)\n  File \"C:\\Users\\orect\\.julia\\conda\\3\\x86_64\\lib\\site-packages\\matplotlib\\axis.py\", line 1377, in draw\n    tlb1, tlb2 = self._get_ticklabel_bboxes(ticks_to_draw, renderer)\n  File \"C:\\Users\\orect\\.julia\\conda\\3\\x86_64\\lib\\site-packages\\matplotlib\\axis.py\", line 1304, in _get_ticklabel_bboxes\n    return ([tick.label1.get_window_extent(renderer)\n  File \"C:\\Users\\orect\\.julia\\conda\\3\\x86_64\\lib\\site-packages\\matplotlib\\axis.py\", line 1304, in <listcomp>\n    return ([tick.label1.get_window_extent(renderer)\n  File \"C:\\Users\\orect\\.julia\\conda\\3\\x86_64\\lib\\site-packages\\matplotlib\\text.py\", line 959, in get_window_extent\n    bbox, info, descent = self._get_layout(self._renderer)\n  File \"C:\\Users\\orect\\.julia\\conda\\3\\x86_64\\lib\\site-packages\\matplotlib\\text.py\", line 378, in _get_layout\n    _, lp_h, lp_d = _get_text_metrics_with_cache(\n  File \"C:\\Users\\orect\\.julia\\conda\\3\\x86_64\\lib\\site-packages\\matplotlib\\text.py\", line 97, in _get_text_metrics_with_cache\n    return _get_text_metrics_with_cache_impl(\n  File \"C:\\Users\\orect\\.julia\\conda\\3\\x86_64\\lib\\site-packages\\matplotlib\\text.py\", line 105, in _get_text_metrics_with_cache_impl\n    return renderer_ref().get_text_width_height_descent(text, fontprop, ismath)\n  File \"C:\\Users\\orect\\.julia\\conda\\3\\x86_64\\lib\\site-packages\\matplotlib\\backends\\_backend_pdf_ps.py\", line 112, in get_text_width_height_descent\n    return super().get_text_width_height_descent(s, prop, ismath)\n  File \"C:\\Users\\orect\\.julia\\conda\\3\\x86_64\\lib\\site-packages\\matplotlib\\backend_bases.py\", line 645, in get_text_width_height_descent\n    return self.get_texmanager().get_text_width_height_descent(\n  File \"C:\\Users\\orect\\.julia\\conda\\3\\x86_64\\lib\\site-packages\\matplotlib\\texmanager.py\", line 368, in get_text_width_height_descent\n    dvifile = cls.make_dvi(tex, fontsize)\n  File \"C:\\Users\\orect\\.julia\\conda\\3\\x86_64\\lib\\site-packages\\matplotlib\\texmanager.py\", line 300, in make_dvi\n    cls._run_checked_subprocess(\n  File \"C:\\Users\\orect\\.julia\\conda\\3\\x86_64\\lib\\site-packages\\matplotlib\\texmanager.py\", line 259, in _run_checked_subprocess\n    raise RuntimeError(\n",
     "output_type": "error",
     "traceback": [
      "PyError ($(Expr(:escape, :(ccall(#= C:\\Users\\orect\\.julia\\packages\\PyCall\\ilqDX\\src\\pyfncall.jl:43 =# @pysym(:PyObject_Call), PyPtr, (PyPtr, PyPtr, PyPtr), o, pyargsptr, kw))))) <class 'RuntimeError'>\nRuntimeError('Failed to process string with tex because latex could not be found')\n  File \"C:\\Users\\orect\\.julia\\conda\\3\\x86_64\\lib\\site-packages\\matplotlib\\figure.py\", line 3378, in savefig\n    self.canvas.print_figure(fname, **kwargs)\n  File \"C:\\Users\\orect\\.julia\\conda\\3\\x86_64\\lib\\site-packages\\matplotlib\\backend_bases.py\", line 2366, in print_figure\n    result = print_method(\n  File \"C:\\Users\\orect\\.julia\\conda\\3\\x86_64\\lib\\site-packages\\matplotlib\\backend_bases.py\", line 2232, in <lambda>\n    print_method = functools.wraps(meth)(lambda *args, **kwargs: meth(\n  File \"C:\\Users\\orect\\.julia\\conda\\3\\x86_64\\lib\\site-packages\\matplotlib\\backends\\backend_pdf.py\", line 2820, in print_pdf\n    self.figure.draw(renderer)\n  File \"C:\\Users\\orect\\.julia\\conda\\3\\x86_64\\lib\\site-packages\\matplotlib\\artist.py\", line 95, in draw_wrapper\n    result = draw(artist, renderer, *args, **kwargs)\n  File \"C:\\Users\\orect\\.julia\\conda\\3\\x86_64\\lib\\site-packages\\matplotlib\\artist.py\", line 72, in draw_wrapper\n    return draw(artist, renderer)\n  File \"C:\\Users\\orect\\.julia\\conda\\3\\x86_64\\lib\\site-packages\\matplotlib\\figure.py\", line 3175, in draw\n    mimage._draw_list_compositing_images(\n  File \"C:\\Users\\orect\\.julia\\conda\\3\\x86_64\\lib\\site-packages\\matplotlib\\image.py\", line 131, in _draw_list_compositing_images\n    a.draw(renderer)\n  File \"C:\\Users\\orect\\.julia\\conda\\3\\x86_64\\lib\\site-packages\\matplotlib\\artist.py\", line 72, in draw_wrapper\n    return draw(artist, renderer)\n  File \"C:\\Users\\orect\\.julia\\conda\\3\\x86_64\\lib\\site-packages\\matplotlib\\axes\\_base.py\", line 3064, in draw\n    mimage._draw_list_compositing_images(\n  File \"C:\\Users\\orect\\.julia\\conda\\3\\x86_64\\lib\\site-packages\\matplotlib\\image.py\", line 131, in _draw_list_compositing_images\n    a.draw(renderer)\n  File \"C:\\Users\\orect\\.julia\\conda\\3\\x86_64\\lib\\site-packages\\matplotlib\\artist.py\", line 72, in draw_wrapper\n    return draw(artist, renderer)\n  File \"C:\\Users\\orect\\.julia\\conda\\3\\x86_64\\lib\\site-packages\\matplotlib\\axis.py\", line 1377, in draw\n    tlb1, tlb2 = self._get_ticklabel_bboxes(ticks_to_draw, renderer)\n  File \"C:\\Users\\orect\\.julia\\conda\\3\\x86_64\\lib\\site-packages\\matplotlib\\axis.py\", line 1304, in _get_ticklabel_bboxes\n    return ([tick.label1.get_window_extent(renderer)\n  File \"C:\\Users\\orect\\.julia\\conda\\3\\x86_64\\lib\\site-packages\\matplotlib\\axis.py\", line 1304, in <listcomp>\n    return ([tick.label1.get_window_extent(renderer)\n  File \"C:\\Users\\orect\\.julia\\conda\\3\\x86_64\\lib\\site-packages\\matplotlib\\text.py\", line 959, in get_window_extent\n    bbox, info, descent = self._get_layout(self._renderer)\n  File \"C:\\Users\\orect\\.julia\\conda\\3\\x86_64\\lib\\site-packages\\matplotlib\\text.py\", line 378, in _get_layout\n    _, lp_h, lp_d = _get_text_metrics_with_cache(\n  File \"C:\\Users\\orect\\.julia\\conda\\3\\x86_64\\lib\\site-packages\\matplotlib\\text.py\", line 97, in _get_text_metrics_with_cache\n    return _get_text_metrics_with_cache_impl(\n  File \"C:\\Users\\orect\\.julia\\conda\\3\\x86_64\\lib\\site-packages\\matplotlib\\text.py\", line 105, in _get_text_metrics_with_cache_impl\n    return renderer_ref().get_text_width_height_descent(text, fontprop, ismath)\n  File \"C:\\Users\\orect\\.julia\\conda\\3\\x86_64\\lib\\site-packages\\matplotlib\\backends\\_backend_pdf_ps.py\", line 112, in get_text_width_height_descent\n    return super().get_text_width_height_descent(s, prop, ismath)\n  File \"C:\\Users\\orect\\.julia\\conda\\3\\x86_64\\lib\\site-packages\\matplotlib\\backend_bases.py\", line 645, in get_text_width_height_descent\n    return self.get_texmanager().get_text_width_height_descent(\n  File \"C:\\Users\\orect\\.julia\\conda\\3\\x86_64\\lib\\site-packages\\matplotlib\\texmanager.py\", line 368, in get_text_width_height_descent\n    dvifile = cls.make_dvi(tex, fontsize)\n  File \"C:\\Users\\orect\\.julia\\conda\\3\\x86_64\\lib\\site-packages\\matplotlib\\texmanager.py\", line 300, in make_dvi\n    cls._run_checked_subprocess(\n  File \"C:\\Users\\orect\\.julia\\conda\\3\\x86_64\\lib\\site-packages\\matplotlib\\texmanager.py\", line 259, in _run_checked_subprocess\n    raise RuntimeError(\n",
      "",
      "Stacktrace:",
      "  [1] pyerr_check",
      "    @ C:\\Users\\orect\\.julia\\packages\\PyCall\\ilqDX\\src\\exception.jl:75 [inlined]",
      "  [2] pyerr_check",
      "    @ C:\\Users\\orect\\.julia\\packages\\PyCall\\ilqDX\\src\\exception.jl:79 [inlined]",
      "  [3] _handle_error(msg::String)",
      "    @ PyCall C:\\Users\\orect\\.julia\\packages\\PyCall\\ilqDX\\src\\exception.jl:96",
      "  [4] macro expansion",
      "    @ C:\\Users\\orect\\.julia\\packages\\PyCall\\ilqDX\\src\\exception.jl:110 [inlined]",
      "  [5] #107",
      "    @ C:\\Users\\orect\\.julia\\packages\\PyCall\\ilqDX\\src\\pyfncall.jl:43 [inlined]",
      "  [6] disable_sigint",
      "    @ .\\c.jl:473 [inlined]",
      "  [7] __pycall!",
      "    @ C:\\Users\\orect\\.julia\\packages\\PyCall\\ilqDX\\src\\pyfncall.jl:42 [inlined]",
      "  [8] _pycall!(ret::PyObject, o::PyObject, args::Tuple{String}, nargs::Int64, kw::Ptr{Nothing})",
      "    @ PyCall C:\\Users\\orect\\.julia\\packages\\PyCall\\ilqDX\\src\\pyfncall.jl:29",
      "  [9] _pycall!",
      "    @ C:\\Users\\orect\\.julia\\packages\\PyCall\\ilqDX\\src\\pyfncall.jl:11 [inlined]",
      " [10] #_#114",
      "    @ C:\\Users\\orect\\.julia\\packages\\PyCall\\ilqDX\\src\\pyfncall.jl:86 [inlined]",
      " [11] (::PyObject)(args::String)",
      "    @ PyCall C:\\Users\\orect\\.julia\\packages\\PyCall\\ilqDX\\src\\pyfncall.jl:86",
      " [12] plot_main(; μ_d_vals::Tuple{Float64, Float64}, savefig::Bool, figname::String)",
      "    @ Main .\\In[3]:63",
      " [13] top-level scope",
      "    @ In[3]:67"
     ]
    }
   ],
   "source": [
    "\"\"\"\n",
    "Price-dividend ratio in a model with dividend and consumption growth.\n",
    "\n",
    "\"\"\"\n",
    "\n",
    "using QuantEcon, LinearAlgebra\n",
    "\n",
    "\"Creates an instance of the asset pricing model with Markov state.\"\n",
    "function create_asset_pricing_model(;\n",
    "        n=200,              # state grid size\n",
    "        ρ=0.9, ν=0.2,       # state persistence and volatility\n",
    "        β=0.99, γ=2.5,      # discount and preference parameter\n",
    "        μ_c=0.01, σ_c=0.02, # consumption growth mean and volatility\n",
    "        μ_d=0.02, σ_d=0.1)  # dividend growth mean and volatility\n",
    "    mc = tauchen(n, ρ, ν)\n",
    "    x_vals, P = exp.(mc.state_values), mc.p\n",
    "    return (; x_vals, P, β, γ, μ_c, σ_c, μ_d, σ_d)\n",
    "end\n",
    "\n",
    "\" Build the discount matrix A. \"\n",
    "function build_discount_matrix(model)\n",
    "    (; x_vals, P, β, γ, μ_c, σ_c, μ_d, σ_d) = model\n",
    "    e = exp.(μ_d - γ*μ_c + (γ^2*σ_c^2 + σ_d^2)/2 .+ (1-γ)*x_vals)\n",
    "    return β * e .* P\n",
    "end\n",
    "\n",
    "\"Compute the price-dividend ratio associated with the model.\"\n",
    "function pd_ratio(model)\n",
    "    (; x_vals, P, β, γ, μ_c, σ_c, μ_d, σ_d) = model\n",
    "    A = build_discount_matrix(model)\n",
    "    @assert maximum(abs.(eigvals(A))) < 1 \"Requires r(A) < 1.\"\n",
    "    n = length(x_vals)\n",
    "    return (I - A) \\ (A * ones(n))\n",
    "end\n",
    "\n",
    "\n",
    "# == Plots == #\n",
    "\n",
    "using PyPlot\n",
    "using LaTeXStrings\n",
    "PyPlot.matplotlib[:rc](\"text\", usetex=true) # allow tex rendering\n",
    "fontsize=16\n",
    "\n",
    "default_model = create_asset_pricing_model()\n",
    "\n",
    "\n",
    "function plot_main(; μ_d_vals = (0.02, 0.08),\n",
    "                     savefig=false, \n",
    "                     figname=\"../figures/pd_ratio_1.pdf\")\n",
    "    fig, ax = plt.subplots(figsize=(9, 5.2))\n",
    "\n",
    "    for μ_d in μ_d_vals\n",
    "        model = create_asset_pricing_model(μ_d=μ_d)\n",
    "        (; x_vals, P, β, γ, μ_c, σ_c, μ_d, σ_d) = model\n",
    "        v_star = pd_ratio(model)\n",
    "        ax.plot(x_vals, v_star, lw=2, alpha=0.6, label=L\"\\mu_d=\"*\"$μ_d\")\n",
    "    end\n",
    "\n",
    "    ax.legend(frameon=false, fontsize=fontsize)\n",
    "    ax.set_xlabel(L\"x\", fontsize=fontsize)\n",
    "    plt.show()\n",
    "    if savefig\n",
    "        fig.savefig(figname)\n",
    "    end\n",
    "end\n",
    "\n",
    "plot_main(savefig=true)"
   ]
  },
  {
   "cell_type": "code",
   "execution_count": 4,
   "id": "74790a02",
   "metadata": {
    "tags": [
     "hide-input"
    ]
   },
   "outputs": [
    {
     "name": "stdout",
     "output_type": "stream",
     "text": [
      "Solving model."
     ]
    },
    {
     "name": "stdout",
     "output_type": "stream",
     "text": [
      "\n",
      "Completed iteration 25 with error 0.5612439473730824."
     ]
    },
    {
     "name": "stdout",
     "output_type": "stream",
     "text": [
      "\n",
      "Completed iteration 50 with error 0.33434255762250586."
     ]
    },
    {
     "name": "stdout",
     "output_type": "stream",
     "text": [
      "\n",
      "Completed iteration 75 with error 0.16028703786853526."
     ]
    },
    {
     "name": "stdout",
     "output_type": "stream",
     "text": [
      "\n",
      "Completed iteration 100 with error 0.09011797568146562."
     ]
    },
    {
     "name": "stdout",
     "output_type": "stream",
     "text": [
      "\n",
      "Completed iteration 125 with error 0.049802462719462426."
     ]
    },
    {
     "name": "stdout",
     "output_type": "stream",
     "text": [
      "\n",
      "Completed iteration 150 with error 0.027161672509890877."
     ]
    },
    {
     "name": "stdout",
     "output_type": "stream",
     "text": [
      "\n",
      "Completed iteration 175 with error 0.014707249128775857."
     ]
    },
    {
     "name": "stdout",
     "output_type": "stream",
     "text": [
      "\n",
      "Completed iteration 200 with error 0.007932294742488466."
     ]
    },
    {
     "name": "stdout",
     "output_type": "stream",
     "text": [
      "\n",
      "Completed iteration 225 with error 0.004269072929773188."
     ]
    },
    {
     "name": "stdout",
     "output_type": "stream",
     "text": [
      "\n",
      "Completed iteration 250 with error 0.0022948708510455162.\n"
     ]
    },
    {
     "name": "stdout",
     "output_type": "stream",
     "text": [
      "Completed iteration 275 with error 0.001232831534892398."
     ]
    },
    {
     "name": "stdout",
     "output_type": "stream",
     "text": [
      "\n",
      "Completed iteration 300 with error 0.0006620584060144097."
     ]
    },
    {
     "name": "stdout",
     "output_type": "stream",
     "text": [
      "\n",
      "Completed iteration 325 with error 0.0003554717469143043."
     ]
    },
    {
     "name": "stdout",
     "output_type": "stream",
     "text": [
      "\n",
      "Completed iteration 350 with error 0.00019083936177111127."
     ]
    },
    {
     "name": "stdout",
     "output_type": "stream",
     "text": [
      "\n",
      "Completed iteration 375 with error 0.00010244851192453552."
     ]
    },
    {
     "name": "stdout",
     "output_type": "stream",
     "text": [
      "\n",
      "Completed iteration 400 with error 5.499580430523565e-5."
     ]
    },
    {
     "name": "stdout",
     "output_type": "stream",
     "text": [
      "\n",
      "Completed iteration 425 with error 2.952200834016594e-5."
     ]
    },
    {
     "name": "stdout",
     "output_type": "stream",
     "text": [
      "\n",
      "Completed iteration 450 with error 1.5847402693225376e-5."
     ]
    },
    {
     "name": "stdout",
     "output_type": "stream",
     "text": [
      "\n",
      "Completed iteration 475 with error 8.506835150967618e-6.\n"
     ]
    },
    {
     "name": "stdout",
     "output_type": "stream",
     "text": [
      "Completed iteration 500 with error 4.566428842167625e-6."
     ]
    },
    {
     "name": "stdout",
     "output_type": "stream",
     "text": [
      "\n",
      "Completed iteration 525 with error 2.4512335414783593e-6."
     ]
    },
    {
     "name": "stdout",
     "output_type": "stream",
     "text": [
      "\n",
      "Completed iteration 550 with error 1.3158073528529712e-6."
     ]
    },
    {
     "name": "stdout",
     "output_type": "stream",
     "text": [
      "\n",
      "Terminated successfully in 563 iterations."
     ]
    },
    {
     "name": "stdout",
     "output_type": "stream",
     "text": [
      "\n"
     ]
    },
    {
     "ename": "LoadError",
     "evalue": "BoundsError: attempt to access 41×20 Matrix{Int32} at index [0, 1]",
     "output_type": "error",
     "traceback": [
      "BoundsError: attempt to access 41×20 Matrix{Int32} at index [0, 1]",
      "",
      "Stacktrace:",
      " [1] getindex",
      "   @ .\\essentials.jl:14 [inlined]",
      " [2] getindex(A::Matrix{Int32}, i1::Int32, I::Int64)",
      "   @ Base .\\abstractarray.jl:1297",
      " [3] sim_inventories(ts_length::Int64; X_init::Int64)",
      "   @ Main .\\In[4]:104",
      " [4] sim_inventories",
      "   @ .\\In[4]:97 [inlined]",
      " [5] plot_ts(; ts_length::Int64, fontsize::Int64, figname::String, savefig::Bool)",
      "   @ Main .\\In[4]:113",
      " [6] top-level scope",
      "   @ In[4]:138"
     ]
    }
   ],
   "source": [
    "\"\"\"\n",
    "Inventory management model with state-dependent discounting.  \n",
    "The discount factor takes the form β_t = Z_t, where (Z_t) is \n",
    "a discretization of the Gaussian AR(1) process \n",
    "\n",
    "    X_t = ρ X_{t-1} + b + ν W_t.\n",
    "\n",
    "\"\"\"\n",
    "\n",
    "include(\"s_approx.jl\")\n",
    "using LinearAlgebra, Distributions, QuantEcon\n",
    "\n",
    "function create_sdd_inventory_model(; \n",
    "            ρ=0.98, ν=0.002, n_z=20, b=0.97,  # Z state parameters\n",
    "            K=40, c=0.2, κ=0.8, p=0.6)        # firm and demand parameters\n",
    "    ϕ(d) = (1 - p)^d * p                      # demand pdf\n",
    "    y_vals = collect(0:K)                     # inventory levels\n",
    "    mc = tauchen(n_z, ρ, ν)\n",
    "    z_vals, Q = mc.state_values .+ b, mc.p\n",
    "    ρL = maximum(abs.(eigvals(z_vals .* Q)))     \n",
    "    @assert  ρL < 1 \"Error: ρ(L) ≥ 1.\"    # check ρ(L) < 1\n",
    "    return (; K, c, κ, p, ϕ, y_vals, z_vals, Q)\n",
    "end\n",
    "\n",
    "m(y) = max(y, 0)  # Convenience function\n",
    "\n",
    "\"The function B(x, a, v) = r(x, a) + β(x) Σ_x′ v(x′) P(x, a, x′).\"\n",
    "function B(x, i_z, a, v, model; d_max=100)\n",
    "    (; K, c, κ, p, ϕ, y_vals, z_vals, Q) = model\n",
    "    z = z_vals[i_z]\n",
    "    revenue = sum(min(x, d)*ϕ(d) for d in 0:d_max)\n",
    "    current_profit =  revenue - c * a - κ * (a > 0)\n",
    "    cv = 0.0\n",
    "    for i_z′ in eachindex(z_vals)\n",
    "        for d in 0:d_max\n",
    "            cv += v[m(x - d) + a + 1, i_z′] * ϕ(d) * Q[i_z, i_z′]\n",
    "        end\n",
    "    end\n",
    "    return current_profit + z * cv\n",
    "end\n",
    "\n",
    "\"The Bellman operator.\"\n",
    "function T(v, model)\n",
    "    (; K, c, κ, p, ϕ, y_vals, z_vals, Q) = model\n",
    "    new_v = similar(v)\n",
    "    for (i_z, z) in enumerate(z_vals)\n",
    "        for (i_y, y) in enumerate(y_vals)\n",
    "            Γy = 0:(K - y) \n",
    "            new_v[i_y, i_z], _ = findmax(B(y, i_z, a, v, model) for a in Γy)\n",
    "        end\n",
    "    end\n",
    "    return new_v\n",
    "end\n",
    "\n",
    "\"Get a v-greedy policy.  Returns a zero-based array.\"\n",
    "function get_greedy(v, model)\n",
    "    (; K, c, κ, p, ϕ, y_vals, z_vals, Q) = model\n",
    "    n_z = length(z_vals)\n",
    "    σ_star = zeros(Int32, K+1, n_z)\n",
    "    for (i_z, z) in enumerate(z_vals)\n",
    "        for (i_y, y) in enumerate(y_vals)\n",
    "            Γy = 0:(K - y) \n",
    "            _, i_a = findmax(B(y, i_z, a, v, model) for a in Γy)\n",
    "            σ_star[i_y, i_z] = Γy[i_a]\n",
    "        end\n",
    "    end\n",
    "    return σ_star\n",
    "end\n",
    "\n",
    "\n",
    "\"Use successive_approx to get v_star and then compute greedy.\"\n",
    "function solve_inventory_model(v_init, model)\n",
    "    (; K, c, κ, p, ϕ, y_vals, z_vals, Q) = model\n",
    "    v_star = successive_approx(v -> T(v, model), v_init)\n",
    "    σ_star = get_greedy(v_star, model)\n",
    "    return v_star, σ_star\n",
    "end\n",
    "\n",
    "\n",
    "# == Plots == # \n",
    "\n",
    "using PyPlot\n",
    "using PyPlot\n",
    "using LaTeXStrings\n",
    "PyPlot.matplotlib[:rc](\"text\", usetex=true) # allow tex rendering\n",
    "\n",
    "# Create an instance of the model and solve it\n",
    "model = create_sdd_inventory_model()\n",
    "(; K, c, κ, p, ϕ, y_vals, z_vals, Q) = model\n",
    "n_z = length(z_vals)\n",
    "v_init = zeros(Float64, K+1, n_z)\n",
    "println(\"Solving model.\")\n",
    "v_star, σ_star = solve_inventory_model(v_init, model)\n",
    "z_mc = MarkovChain(Q, z_vals)\n",
    "\n",
    "\"Simulate given the optimal policy.\"\n",
    "function sim_inventories(ts_length; X_init=0)\n",
    "    i_z = simulate_indices(z_mc, ts_length, init=1)\n",
    "    G = Geometric(p)\n",
    "    X = zeros(Int32, ts_length)\n",
    "    X[1] = X_init\n",
    "    for t in 1:(ts_length-1)\n",
    "        D′ = rand(G)\n",
    "        X[t+1] = m(X[t] - D′) + σ_star[X[t], i_z[t]]\n",
    "    end\n",
    "    return X, z_vals[i_z]\n",
    "end\n",
    "\n",
    "function plot_ts(; ts_length=400,\n",
    "                   fontsize=16, \n",
    "                   figname=\"../figures/inventory_sdd_ts.pdf\",\n",
    "                   savefig=false)\n",
    "    X, Z = sim_inventories(ts_length)\n",
    "    fig, axes = plt.subplots(2, 1, figsize=(9, 5.5))\n",
    "\n",
    "    ax = axes[1]\n",
    "    ax.plot(X, label=\"inventory\", alpha=0.7)\n",
    "    ax.set_xlabel(L\"t\", fontsize=fontsize)\n",
    "    ax.legend(fontsize=fontsize, frameon=false)\n",
    "    ax.set_ylim(0, maximum(X)+3)\n",
    "\n",
    "    # calculate interest rate from discount factors\n",
    "    r = (1 ./ Z) .- 1\n",
    "\n",
    "    ax = axes[2]\n",
    "    ax.plot(r, label=L\"r_t\", alpha=0.7)\n",
    "    ax.set_xlabel(L\"t\", fontsize=fontsize)\n",
    "    ax.legend(fontsize=fontsize, frameon=false)\n",
    "    #ax.set_ylim(0, maximum(X)+8)\n",
    "\n",
    "    plt.tight_layout()\n",
    "    plt.show()\n",
    "    if savefig == true\n",
    "        fig.savefig(figname)\n",
    "    end\n",
    "end\n",
    "\n",
    "plot_ts(savefig=true)"
   ]
  }
 ],
 "metadata": {
  "jupytext": {
   "text_representation": {
    "extension": ".md",
    "format_name": "myst"
   }
  },
  "kernelspec": {
   "display_name": "Julia",
   "language": "julia",
   "name": "julia-1.9"
  },
  "language_info": {
   "file_extension": ".jl",
   "mimetype": "application/julia",
   "name": "julia",
   "version": "1.9.1"
  },
  "source_map": [
   10,
   28,
   36,
   39,
   70,
   73,
   143,
   146
  ]
 },
 "nbformat": 4,
 "nbformat_minor": 5
}