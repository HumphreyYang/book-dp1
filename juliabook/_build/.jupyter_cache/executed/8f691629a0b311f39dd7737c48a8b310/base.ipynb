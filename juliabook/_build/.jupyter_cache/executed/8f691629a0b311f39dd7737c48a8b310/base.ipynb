{
 "cells": [
  {
   "cell_type": "code",
   "execution_count": 1,
   "id": "6b0b7751",
   "metadata": {
    "tags": [
     "remove-cell"
    ]
   },
   "outputs": [
    {
     "name": "stderr",
     "output_type": "stream",
     "text": [
      "\u001b[32m\u001b[1m  Activating\u001b[22m\u001b[39m project at `d:\\GitHub\\book-dp1`\n"
     ]
    }
   ],
   "source": [
    "using Pkg;\n",
    "Pkg.activate(\"../\");"
   ]
  },
  {
   "cell_type": "code",
   "execution_count": 2,
   "id": "6027727d",
   "metadata": {
    "tags": [
     "hide-input"
    ]
   },
   "outputs": [
    {
     "data": {
      "text/plain": [
       "fig_v1"
      ]
     },
     "execution_count": 2,
     "metadata": {},
     "output_type": "execute_result"
    }
   ],
   "source": [
    "\"\"\"\n",
    "Two period job search in the IID case.\n",
    "\"\"\"\n",
    "\n",
    "using Distributions\n",
    "\n",
    "\"Creates an instance of the job search model, stored as a NamedTuple.\"\n",
    "function create_job_search_model(;\n",
    "        n=50,        # wage grid size\n",
    "        w_min=10.0,  # lowest wage\n",
    "        w_max=60.0,  # highest wage\n",
    "        a=200,       # wage distribution parameter\n",
    "        b=100,       # wage distribution parameter\n",
    "        β=0.96,      # discount factor\n",
    "        c=10.0       # unemployment compensation\n",
    "    )\n",
    "    w_vals = collect(LinRange(w_min, w_max, n+1))\n",
    "    ϕ = pdf(BetaBinomial(n, a, b))\n",
    "    return (; n, w_vals, ϕ, β, c)\n",
    "end\n",
    "\n",
    "\" Computes lifetime value at t=1 given current wage w_1 = w. \"\n",
    "function v_1(w, model)\n",
    "    (; n, w_vals, ϕ, β, c) = model\n",
    "    h_1 = c + β * max.(c, w_vals)'ϕ\n",
    "    return max(w + β * w, h_1)\n",
    "end\n",
    "\n",
    "\" Computes reservation wage at t=1. \"\n",
    "function res_wage(model)\n",
    "    (; n, w_vals, ϕ, β, c) = model\n",
    "    h_1 = c + β * max.(c, w_vals)'ϕ\n",
    "    return h_1 / (1 + β)\n",
    "end\n",
    "\n",
    "\n",
    "# == Plots == #\n",
    "\n",
    "using PyPlot\n",
    "using LaTeXStrings\n",
    "PyPlot.matplotlib[:rc](\"text\", usetex=true) # allow tex rendering\n",
    "\n",
    "default_model = create_job_search_model()\n",
    "\n",
    "\" Plot the distribution of wages. \"\n",
    "function fig_dist(model=default_model, fs=14)\n",
    "    fig, ax = plt.subplots()\n",
    "    ax.plot(model.w_vals, model.ϕ, \"-o\", alpha=0.5, label=\"wage distribution\")\n",
    "    ax.legend(loc=\"upper left\", fontsize=fs)\n",
    "    plt.show()\n",
    "end\n",
    "\n",
    "\n",
    "\" Plot two-period value function and res wage. \"\n",
    "function fig_v1(model=default_model; savefig=false, \n",
    "                  figname=\"../figures/iid_job_search_0.pdf\", fs=18)\n",
    "\n",
    "    (; n, w_vals, ϕ, β, c) = model\n",
    "\n",
    "    v = [v_1(w, model) for w in model.w_vals]\n",
    "    w_star = res_wage(model)\n",
    "    continuation_val = c + β * max.(c, w_vals)'ϕ\n",
    "    min_w, max_w = minimum(w_vals), maximum(w_vals)\n",
    "\n",
    "    fig, ax = plt.subplots(figsize=(9, 5.5))\n",
    "    ax.set_ylim(0, 120)\n",
    "    ax.set_xlim(min_w, max_w)\n",
    "    ax.vlines((w_star,), (0,), (continuation_val,), lw=0.5)\n",
    "    ax.set_yticks((0, 50, 100))\n",
    "    ax.set_yticklabels((0, 50, 100), fontsize=12)\n",
    "    ax.set_xticks((min_w, w_star, max_w))\n",
    "    ax.set_xticklabels((min_w, L\"$w^*_1$\", max_w), fontsize=12)\n",
    "    ax.plot(w_vals, w_vals + β * w_vals, \"-\", alpha=0.8, lw=3, \n",
    "            label=L\"$w_1 + \\beta w_1$\")\n",
    "    ax.plot(w_vals, fill(continuation_val, n+1), lw=3, alpha=0.8, \n",
    "            label=L\"$c + \\beta \\sum_{w'} \\max\\{c, w'\\} \\varphi(w')$\" )\n",
    "    ax.plot(w_vals, v, \"k--\", ms=2, alpha=1.0, lw=2, label=L\"$v_1(w_1)$\")\n",
    "    ax.legend(frameon=false, fontsize=fs, loc=\"upper left\")\n",
    "    if savefig\n",
    "        fig.savefig(figname)\n",
    "    end\n",
    "    plt.show()\n",
    "end\n"
   ]
  },
  {
   "cell_type": "code",
   "execution_count": 3,
   "id": "bf94fc7c",
   "metadata": {
    "tags": [
     "hide-input"
    ]
   },
   "outputs": [
    {
     "name": "stdout",
     "output_type": "stream",
     "text": [
      "0.5828427124746189"
     ]
    }
   ],
   "source": [
    "using LinearAlgebra                         \n",
    "ρ(A) = maximum(abs(λ) for λ in eigvals(A))  # Spectral radius\n",
    "A = [0.4 0.1;                               # Test with arbitrary A\n",
    "     0.7 0.2]\n",
    "print(ρ(A))"
   ]
  },
  {
   "cell_type": "code",
   "execution_count": 4,
   "id": "b88f2436",
   "metadata": {
    "tags": [
     "hide-input"
    ]
   },
   "outputs": [
    {
     "name": "stdout",
     "output_type": "stream",
     "text": [
      "5.6210591736771676e-12"
     ]
    }
   ],
   "source": [
    "using LinearAlgebra\n",
    "\n",
    "# Primitives\n",
    "A = [0.4 0.1;\n",
    "     0.7 0.2]\n",
    "\n",
    "# Method one: direct inverse\n",
    "B_inverse = inv(I - A)\n",
    "\n",
    "# Method two: power series\n",
    "function power_series(A)\n",
    "    B_sum = zeros((2, 2))\n",
    "    A_power = I\n",
    "    for k in 1:50\n",
    "        B_sum += A_power\n",
    "        A_power = A_power * A\n",
    "    end\n",
    "    return B_sum\n",
    "end\n",
    "\n",
    "# Print maximal error\n",
    "print(maximum(abs.(B_inverse - power_series(A))))"
   ]
  },
  {
   "cell_type": "code",
   "execution_count": 5,
   "id": "61855455",
   "metadata": {
    "tags": [
     "hide-input"
    ]
   },
   "outputs": [
    {
     "data": {
      "text/plain": [
       "successive_approx"
      ]
     },
     "execution_count": 5,
     "metadata": {},
     "output_type": "execute_result"
    }
   ],
   "source": [
    "\"\"\"\n",
    "Computes an approximate fixed point of a given operator T \n",
    "via successive approximation.\n",
    "\n",
    "\"\"\"\n",
    "function successive_approx(T,                  # operator (callable)\n",
    "                           u_0;                # initial condition\n",
    "                           tolerance=1e-6,     # error tolerance\n",
    "                           max_iter=10_000,    # max iteration bound\n",
    "                           print_step=25)      # print at multiples\n",
    "    u = u_0\n",
    "    error = Inf\n",
    "    k = 1\n",
    "\n",
    "    while (error > tolerance) & (k <= max_iter)\n",
    "        \n",
    "        u_new = T(u)\n",
    "        error = maximum(abs.(u_new - u))\n",
    "\n",
    "        if k % print_step == 0\n",
    "            println(\"Completed iteration $k with error $error.\")\n",
    "        end\n",
    "\n",
    "        u = u_new\n",
    "        k += 1\n",
    "    end\n",
    "\n",
    "    if error <= tolerance\n",
    "        println(\"Terminated successfully in $k iterations.\")\n",
    "    else\n",
    "        println(\"Warning: hit iteration bound.\")\n",
    "    end\n",
    "\n",
    "    return u\n",
    "end"
   ]
  },
  {
   "cell_type": "code",
   "execution_count": 6,
   "id": "bb3e2c2a",
   "metadata": {
    "tags": [
     "hide-input"
    ]
   },
   "outputs": [
    {
     "name": "stdout",
     "output_type": "stream",
     "text": [
      "Completed iteration 25 with error 2.911659384707832e-6.\n",
      "Terminated successfully in 28 iterations.\n"
     ]
    },
    {
     "name": "stdout",
     "output_type": "stream",
     "text": [
      "true"
     ]
    }
   ],
   "source": [
    "include(\"s_approx.jl\")\n",
    "using LinearAlgebra\n",
    "\n",
    "# Compute the fixed point of Tu = Au + b via linear algebra\n",
    "A, b = [0.4 0.1; 0.7 0.2], [1.0; 2.0]\n",
    "u_star = (I - A) \\ b  # compute (I - A)^{-1} * b\n",
    "\n",
    "# Compute the fixed point via successive approximation\n",
    "T(u) = A * u + b\n",
    "u_0 = [1.0; 1.0]\n",
    "u_star_approx = successive_approx(T, u_0)\n",
    "\n",
    "# Test for approximate equality (prints \"true\")\n",
    "print(isapprox(u_star, u_star_approx, rtol=1e-5))"
   ]
  },
  {
   "cell_type": "code",
   "execution_count": 7,
   "id": "6855a9bf",
   "metadata": {
    "tags": [
     "hide-input"
    ]
   },
   "outputs": [
    {
     "data": {
      "text/plain": [
       "fig_vstar"
      ]
     },
     "execution_count": 7,
     "metadata": {},
     "output_type": "execute_result"
    }
   ],
   "source": [
    "\"\"\"\n",
    "VFI approach to job search in the infinite-horizon IID case.\n",
    "\n",
    "\"\"\"\n",
    "\n",
    "include(\"two_period_job_search.jl\")\n",
    "include(\"s_approx.jl\")\n",
    "\n",
    "\" The Bellman operator. \"\n",
    "function T(v, model)\n",
    "    (; n, w_vals, ϕ, β, c) = model\n",
    "    return [max(w / (1 - β), c + β * v'ϕ) for w in w_vals]\n",
    "end\n",
    "\n",
    "\" Get a v-greedy policy. \"\n",
    "function get_greedy(v, model)\n",
    "    (; n, w_vals, ϕ, β, c) = model\n",
    "    σ = w_vals ./ (1 - β) .>= c .+ β * v'ϕ  # Boolean policy vector\n",
    "    return σ\n",
    "end\n",
    "        \n",
    "\" Solve the infinite-horizon IID job search model by VFI. \"\n",
    "function vfi(model=default_model) \n",
    "    (; n, w_vals, ϕ, β, c) = model\n",
    "    v_init = zero(model.w_vals)  \n",
    "    v_star = successive_approx(v -> T(v, model), v_init)\n",
    "    σ_star = get_greedy(v_star, model)\n",
    "    return v_star, σ_star\n",
    "end\n",
    "    \n",
    "\n",
    "# == Plots == #\n",
    "\n",
    "using PyPlot\n",
    "using LaTeXStrings\n",
    "PyPlot.matplotlib[:rc](\"text\", usetex=true) # allow tex rendering\n",
    "\n",
    "# A model with default parameters\n",
    "default_model = create_job_search_model()\n",
    "\n",
    "\n",
    "\" Plot a sequence of approximations. \"\n",
    "function fig_vseq(model=default_model; \n",
    "                    k=3, \n",
    "                    savefig=false, \n",
    "                    figname=\"../figures/iid_job_search_1.pdf\",\n",
    "                    fs=16)\n",
    "\n",
    "    v = zero(model.w_vals)  \n",
    "    fig, ax = plt.subplots(figsize=(9, 5.5))\n",
    "    for i in 1:k\n",
    "        ax.plot(model.w_vals, v, lw=3, alpha=0.6, label=\"iterate $i\")\n",
    "        v = T(v, model)\n",
    "    end\n",
    "\n",
    "    for i in 1:1000\n",
    "        v = T(v, model)\n",
    "    end\n",
    "    ax.plot(model.w_vals, v, \"k-\", lw=3.0, label=\"iterate 1000\", alpha=0.7)\n",
    "\n",
    "    #ax.set_ylim((0, 140))\n",
    "    ax.set_xlabel(\"wage offer\", fontsize=fs)\n",
    "    ax.set_ylabel(\"lifetime value\", fontsize=fs)\n",
    "\n",
    "    ax.legend(fontsize=fs, frameon=false)\n",
    "\n",
    "    if savefig\n",
    "        fig.savefig(figname)\n",
    "    end\n",
    "    plt.show()\n",
    "end\n",
    "\n",
    "\n",
    "\" Plot the fixed point. \"\n",
    "function fig_vstar(model=default_model; \n",
    "                   savefig=false, fs=18,\n",
    "                   figname=\"../figures/iid_job_search_3.pdf\")\n",
    "\n",
    "    (; n, w_vals, ϕ, β, c) = model\n",
    "    v_star, σ_star = vfi(model)\n",
    "\n",
    "    fig, ax = plt.subplots(figsize=(9, 5.5))\n",
    "    ax.plot(w_vals, v_star, \"k-\", lw=1.5, label=\"value function\")\n",
    "    cont_val = c + β * v_star'ϕ\n",
    "    ax.plot(w_vals, fill(cont_val, n+1), \n",
    "            \"--\", \n",
    "            lw=5,\n",
    "            alpha=0.5,\n",
    "            label=\"continuation value\")\n",
    "\n",
    "    ax.plot(w_vals,\n",
    "            w_vals / (1 - β),\n",
    "            \"--\",\n",
    "            lw=5,\n",
    "            alpha=0.5,\n",
    "            label=L\"w/(1 - \\beta)\")\n",
    "\n",
    "    #ax.set_ylim(0, v_star.max())\n",
    "    ax.legend(frameon=false, fontsize=fs, loc=\"lower right\")\n",
    "\n",
    "    if savefig\n",
    "        fig.savefig(figname)\n",
    "    end\n",
    "    plt.show()\n",
    "end\n",
    "\n"
   ]
  }
 ],
 "metadata": {
  "jupytext": {
   "text_representation": {
    "extension": ".md",
    "format_name": "myst"
   }
  },
  "kernelspec": {
   "display_name": "Julia",
   "language": "julia",
   "name": "julia-1.9"
  },
  "language_info": {
   "file_extension": ".jl",
   "mimetype": "application/julia",
   "name": "julia",
   "version": "1.9.1"
  },
  "source_map": [
   10,
   28,
   33,
   35,
   123,
   126,
   134,
   137,
   162,
   165,
   203,
   206,
   224,
   227
  ]
 },
 "nbformat": 4,
 "nbformat_minor": 5
}