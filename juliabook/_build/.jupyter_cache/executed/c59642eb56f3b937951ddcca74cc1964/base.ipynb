{
 "cells": [
  {
   "cell_type": "code",
   "execution_count": 1,
   "id": "32b42632",
   "metadata": {
    "tags": [
     "remove-cell"
    ]
   },
   "outputs": [
    {
     "name": "stderr",
     "output_type": "stream",
     "text": [
      "\u001b[32m\u001b[1m  Activating\u001b[22m\u001b[39m project at `d:\\GitHub\\book-dp1`"
     ]
    },
    {
     "name": "stderr",
     "output_type": "stream",
     "text": [
      "\n"
     ]
    }
   ],
   "source": [
    "using Pkg;\n",
    "Pkg.activate(\"../\");"
   ]
  },
  {
   "cell_type": "code",
   "execution_count": 2,
   "id": "ea20c913",
   "metadata": {
    "tags": [
     "hide-input"
    ]
   },
   "outputs": [
    {
     "name": "stdout",
     "output_type": "stream",
     "text": [
      "true"
     ]
    },
    {
     "name": "stdout",
     "output_type": "stream",
     "text": [
      "\n"
     ]
    },
    {
     "name": "stderr",
     "output_type": "stream",
     "text": [
      "sys:1: UserWarning: Matplotlib is currently using agg, which is a non-GUI backend, so cannot show the figure.\r\n"
     ]
    },
    {
     "ename": "LoadError",
     "evalue": "PyError ($(Expr(:escape, :(ccall(#= C:\\Users\\orect\\.julia\\packages\\PyCall\\ilqDX\\src\\pyfncall.jl:43 =# @pysym(:PyObject_Call), PyPtr, (PyPtr, PyPtr, PyPtr), o, pyargsptr, kw))))) <class 'FileNotFoundError'>\nFileNotFoundError(2, 'No such file or directory')\n  File \"C:\\Users\\orect\\.julia\\conda\\3\\x86_64\\lib\\site-packages\\matplotlib\\figure.py\", line 3378, in savefig\n    self.canvas.print_figure(fname, **kwargs)\n  File \"C:\\Users\\orect\\.julia\\conda\\3\\x86_64\\lib\\site-packages\\matplotlib\\backend_bases.py\", line 2366, in print_figure\n    result = print_method(\n  File \"C:\\Users\\orect\\.julia\\conda\\3\\x86_64\\lib\\site-packages\\matplotlib\\backend_bases.py\", line 2232, in <lambda>\n    print_method = functools.wraps(meth)(lambda *args, **kwargs: meth(\n  File \"C:\\Users\\orect\\.julia\\conda\\3\\x86_64\\lib\\site-packages\\matplotlib\\backends\\backend_pdf.py\", line 2813, in print_pdf\n    file = PdfFile(filename, metadata=metadata)\n  File \"C:\\Users\\orect\\.julia\\conda\\3\\x86_64\\lib\\site-packages\\matplotlib\\backends\\backend_pdf.py\", line 714, in __init__\n    fh, opened = cbook.to_filehandle(filename, \"wb\", return_opened=True)\n  File \"C:\\Users\\orect\\.julia\\conda\\3\\x86_64\\lib\\site-packages\\matplotlib\\cbook\\__init__.py\", line 494, in to_filehandle\n    fh = open(fname, flag, encoding=encoding)\n",
     "output_type": "error",
     "traceback": [
      "PyError ($(Expr(:escape, :(ccall(#= C:\\Users\\orect\\.julia\\packages\\PyCall\\ilqDX\\src\\pyfncall.jl:43 =# @pysym(:PyObject_Call), PyPtr, (PyPtr, PyPtr, PyPtr), o, pyargsptr, kw))))) <class 'FileNotFoundError'>\nFileNotFoundError(2, 'No such file or directory')\n  File \"C:\\Users\\orect\\.julia\\conda\\3\\x86_64\\lib\\site-packages\\matplotlib\\figure.py\", line 3378, in savefig\n    self.canvas.print_figure(fname, **kwargs)\n  File \"C:\\Users\\orect\\.julia\\conda\\3\\x86_64\\lib\\site-packages\\matplotlib\\backend_bases.py\", line 2366, in print_figure\n    result = print_method(\n  File \"C:\\Users\\orect\\.julia\\conda\\3\\x86_64\\lib\\site-packages\\matplotlib\\backend_bases.py\", line 2232, in <lambda>\n    print_method = functools.wraps(meth)(lambda *args, **kwargs: meth(\n  File \"C:\\Users\\orect\\.julia\\conda\\3\\x86_64\\lib\\site-packages\\matplotlib\\backends\\backend_pdf.py\", line 2813, in print_pdf\n    file = PdfFile(filename, metadata=metadata)\n  File \"C:\\Users\\orect\\.julia\\conda\\3\\x86_64\\lib\\site-packages\\matplotlib\\backends\\backend_pdf.py\", line 714, in __init__\n    fh, opened = cbook.to_filehandle(filename, \"wb\", return_opened=True)\n  File \"C:\\Users\\orect\\.julia\\conda\\3\\x86_64\\lib\\site-packages\\matplotlib\\cbook\\__init__.py\", line 494, in to_filehandle\n    fh = open(fname, flag, encoding=encoding)\n",
      "",
      "Stacktrace:",
      "  [1] pyerr_check",
      "    @ C:\\Users\\orect\\.julia\\packages\\PyCall\\ilqDX\\src\\exception.jl:75 [inlined]",
      "  [2] pyerr_check",
      "    @ C:\\Users\\orect\\.julia\\packages\\PyCall\\ilqDX\\src\\exception.jl:79 [inlined]",
      "  [3] _handle_error(msg::String)",
      "    @ PyCall C:\\Users\\orect\\.julia\\packages\\PyCall\\ilqDX\\src\\exception.jl:96",
      "  [4] macro expansion",
      "    @ C:\\Users\\orect\\.julia\\packages\\PyCall\\ilqDX\\src\\exception.jl:110 [inlined]",
      "  [5] #107",
      "    @ C:\\Users\\orect\\.julia\\packages\\PyCall\\ilqDX\\src\\pyfncall.jl:43 [inlined]",
      "  [6] disable_sigint",
      "    @ .\\c.jl:473 [inlined]",
      "  [7] __pycall!",
      "    @ C:\\Users\\orect\\.julia\\packages\\PyCall\\ilqDX\\src\\pyfncall.jl:42 [inlined]",
      "  [8] _pycall!(ret::PyCall.PyObject, o::PyCall.PyObject, args::Tuple{String}, nargs::Int64, kw::Ptr{Nothing})",
      "    @ PyCall C:\\Users\\orect\\.julia\\packages\\PyCall\\ilqDX\\src\\pyfncall.jl:29",
      "  [9] _pycall!",
      "    @ C:\\Users\\orect\\.julia\\packages\\PyCall\\ilqDX\\src\\pyfncall.jl:11 [inlined]",
      " [10] #_#114",
      "    @ C:\\Users\\orect\\.julia\\packages\\PyCall\\ilqDX\\src\\pyfncall.jl:86 [inlined]",
      " [11] (::PyCall.PyObject)(args::String)",
      "    @ PyCall C:\\Users\\orect\\.julia\\packages\\PyCall\\ilqDX\\src\\pyfncall.jl:86",
      " [12] plot_paths(; figname::String, savefig::Bool)",
      "    @ Main .\\In[2]:96",
      " [13] top-level scope",
      "    @ In[2]:134"
     ]
    }
   ],
   "source": [
    "using LinearAlgebra\n",
    "\n",
    "α, λ, d, b = 0.01, 0.1, 0.02, 0.025\n",
    "g = b - d\n",
    "A = [(1 - d) * (1 - λ) + b    (1 - d) * α + b;\n",
    "     (1 - d) * λ              (1 - d) * (1 - α)]\n",
    "\n",
    "ū = (1 + g - (1 - d) * (1 - α)) /  \n",
    "        (1 + g - (1 - d) * (1 - α) + (1 - d) * λ)\n",
    "\n",
    "ē = 1 - ū\n",
    "x̄ = [ū; ē]\n",
    "\n",
    "println(isapprox(A * x̄, (1 + g) * x̄))   # prints true\n",
    "\n",
    "# == Plots == #\n",
    "using PyPlot\n",
    "using LaTeXStrings\n",
    "PyPlot.matplotlib[:rc](\"text\", usetex=true) # allow tex rendering\n",
    "fontsize=14\n",
    "\n",
    "\n",
    "\n",
    "function plot_paths(; figname=\"../figures/lake_1.pdf\", \n",
    "                      savefig=false)\n",
    "    path_length = 100\n",
    "    x_path_1 = zeros(2, path_length)\n",
    "    x_path_2 = zeros(2, path_length)\n",
    "    x_0_1 = 5.0, 0.1\n",
    "    x_0_2 = 0.1, 4.0\n",
    "    x_path_1[1, 1] = x_0_1[1]\n",
    "    x_path_1[2, 1] = x_0_1[2]\n",
    "    x_path_2[1, 1] = x_0_2[1]\n",
    "    x_path_2[2, 1] = x_0_2[2]\n",
    "\n",
    "\n",
    "    for t in 1:(path_length-1)\n",
    "        x_path_1[:, t+1] = A * x_path_1[:, t]\n",
    "        x_path_2[:, t+1] = A * x_path_2[:, t]\n",
    "    end\n",
    "\n",
    "    fig, ax = plt.subplots()\n",
    "\n",
    "    # Set the axes through the origin\n",
    "    for spine in [\"left\", \"bottom\"]\n",
    "        ax.spines[spine].set_position(\"zero\")\n",
    "    end\n",
    "    for spine in [\"right\", \"top\"]\n",
    "        ax.spines[spine].set_color(\"none\")\n",
    "    end\n",
    "\n",
    "    ax.set_xlim(0, 6)\n",
    "    ax.set_ylim(0, 6)\n",
    "    ax.set_xlabel(\"unemployed workforce\", fontsize=fontsize)\n",
    "    ax.set_ylabel(\"employed workforce\", fontsize=fontsize)\n",
    "    ax.set_xticks((0, 6))\n",
    "    ax.set_yticks((0, 6))\n",
    "    s = 10\n",
    "    ax.plot([0, s * ū], [0, s * ē], \"k--\", lw=1)\n",
    "    ax.scatter(x_path_1[1, :], x_path_1[2, :], s=4, c=\"blue\")\n",
    "    ax.scatter(x_path_2[1, :], x_path_2[2, :], s=4, c=\"green\")\n",
    "\n",
    "    ax.plot([ū], [ē], \"ko\", ms=4, alpha=0.6)\n",
    "    ax.annotate(L\"\\bar x\", \n",
    "             xy=(ū, ē),\n",
    "             xycoords=\"data\",\n",
    "             xytext=(20, -20),\n",
    "             textcoords=\"offset points\",\n",
    "             fontsize=fontsize,\n",
    "             arrowprops=Dict(\"arrowstyle\" => \"->\"))\n",
    "\n",
    "    x, y = x_0_1[1], x_0_1[2]\n",
    "    lb = latexstring(\"\\$x_0 = ($(x), $(y))\\$\")\n",
    "    ax.plot([x], [y], \"ko\", ms=2, alpha=0.6)\n",
    "    ax.annotate(lb, \n",
    "                xy=(x, y),\n",
    "             xycoords=\"data\",\n",
    "             xytext=(0, 20),\n",
    "             textcoords=\"offset points\",\n",
    "             fontsize=fontsize,\n",
    "             arrowprops=Dict(\"arrowstyle\" => \"->\"))\n",
    "\n",
    "    x, y = x_0_2[1], x_0_2[2]\n",
    "    lb = latexstring(\"\\$x_0 = ($(x), $(y))\\$\")\n",
    "    ax.plot([x], [y], \"ko\", ms=2, alpha=0.6)\n",
    "    ax.annotate(lb, \n",
    "                xy=(x, y),\n",
    "             xycoords=\"data\",\n",
    "             xytext=(0, 20),\n",
    "             textcoords=\"offset points\",\n",
    "             fontsize=fontsize,\n",
    "             arrowprops=Dict(\"arrowstyle\" => \"->\"))\n",
    "\n",
    "    plt.show()\n",
    "    if savefig\n",
    "        fig.savefig(figname)\n",
    "    end\n",
    "end\n",
    "\n",
    "\n",
    "function plot_growth(; savefig=false, figname=\"../figures/lake_2.pdf\")\n",
    "\n",
    "\n",
    "    path_length = 100\n",
    "    x_0 = 2.1, 1.2\n",
    "    x = zeros(2, path_length)\n",
    "    x[1, 1] = 0.6 \n",
    "    x[2, 1] = 1.2\n",
    "\n",
    "    for t in 1:(path_length-1)\n",
    "        x[:, t+1] = A * x[:, t]\n",
    "    end\n",
    "\n",
    "    fig, axes = plt.subplots(3, 1)\n",
    "    u = x[1, :]\n",
    "    e = x[2, :]\n",
    "    n = x[1, :] .+ x[2, :]\n",
    "    paths = u, e, n\n",
    "    labels = L\"u_t\", L\"e_t\", L\"n_t\"\n",
    "    for (ax, path, label) in zip(axes, paths, labels)\n",
    "        ax.plot(path, label=label)\n",
    "        ax.legend(frameon=false, fontsize=14)\n",
    "        ax.set_xlabel(L\"t\")\n",
    "    end\n",
    "\n",
    "    plt.tight_layout()\n",
    "    plt.show()\n",
    "    if savefig\n",
    "        fig.savefig(figname)\n",
    "    end\n",
    "\n",
    "end\n",
    "\n",
    "plot_paths(savefig=true)\n",
    "\n",
    "plot_growth(savefig=true)```\n"
   ]
  }
 ],
 "metadata": {
  "jupytext": {
   "text_representation": {
    "extension": ".md",
    "format_name": "myst"
   }
  },
  "kernelspec": {
   "display_name": "Julia",
   "language": "julia",
   "name": "julia-1.9"
  },
  "language_info": {
   "file_extension": ".jl",
   "mimetype": "application/julia",
   "name": "julia",
   "version": "1.9.1"
  },
  "source_map": [
   10,
   28,
   33,
   35
  ]
 },
 "nbformat": 4,
 "nbformat_minor": 5
}