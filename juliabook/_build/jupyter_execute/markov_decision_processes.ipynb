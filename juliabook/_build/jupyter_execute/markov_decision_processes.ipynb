{
 "cells": [
  {
   "cell_type": "markdown",
   "id": "6d52952a",
   "metadata": {},
   "source": [
    "(getting_started)=\n",
    "```{raw} html\n",
    "<div id=\"qe-notebook-header\" style=\"text-align:right;\">\n",
    "        <a href=\"https://quantecon.org/\" title=\"quantecon.org\">\n",
    "                <img style=\"width:250px;display:inline;\" src=\"https://assets.quantecon.org/img/qe-menubar-logo.svg\" alt=\"QuantEcon\">\n",
    "        </a>\n",
    "</div>\n",
    "```\n",
    "# Markov Decision Processes\n",
    "\n",
    "\n",
    "```{contents} Contents\n",
    ":depth: 2\n",
    "```"
   ]
  },
  {
   "cell_type": "code",
   "execution_count": 1,
   "id": "b37663d1",
   "metadata": {
    "tags": [
     "remove-cell"
    ]
   },
   "outputs": [
    {
     "name": "stderr",
     "output_type": "stream",
     "text": [
      "\u001b[32m\u001b[1m  Activating\u001b[22m\u001b[39m project at `D:\\GitHub\\book-dp1`"
     ]
    },
    {
     "name": "stderr",
     "output_type": "stream",
     "text": [
      "\n"
     ]
    }
   ],
   "source": [
    "using Pkg;\n",
    "Pkg.activate(\"../\");\n",
    "\n",
    "using PyCall;\n",
    "pygui(:tk);"
   ]
  },
  {
   "cell_type": "markdown",
   "id": "067a8b6f",
   "metadata": {},
   "source": [
    "#### inventory_dp.jl"
   ]
  },
  {
   "cell_type": "code",
   "execution_count": 2,
   "id": "9f1f494a",
   "metadata": {
    "tags": [
     "hide-input"
    ]
   },
   "outputs": [
    {
     "name": "stdout",
     "output_type": "stream",
     "text": [
      "Completed iteration 25 with error 0.41042666932980687.\n",
      "Completed iteration 50 with error 0.21020630773590554.\n",
      "Completed iteration 75 with error 0.0955793466139987.\n"
     ]
    },
    {
     "name": "stdout",
     "output_type": "stream",
     "text": [
      "Completed iteration 100 with error 0.057146989183511465.\n",
      "Completed iteration 125 with error 0.03436202542500766.\n",
      "Completed iteration 150 with error 0.020703850094779597.\n"
     ]
    },
    {
     "name": "stdout",
     "output_type": "stream",
     "text": [
      "Completed iteration 175 with error 0.012485135075589682.\n",
      "Completed iteration 200 with error 0.007532190047619736.\n",
      "Completed iteration 225 with error 0.004544855368770584."
     ]
    },
    {
     "name": "stdout",
     "output_type": "stream",
     "text": [
      "\n",
      "Completed iteration 250 with error 0.0027425060040116023.\n",
      "Completed iteration 275 with error 0.0016549687240292599.\n",
      "Completed iteration 300 with error 0.0009987055387483679."
     ]
    },
    {
     "name": "stdout",
     "output_type": "stream",
     "text": [
      "\n",
      "Completed iteration 325 with error 0.0006026809169377145.\n",
      "Completed iteration 350 with error 0.0003636960443387238.\n",
      "Completed iteration 375 with error 0.00021947756642148875."
     ]
    },
    {
     "name": "stdout",
     "output_type": "stream",
     "text": [
      "\n",
      "Completed iteration 400 with error 0.00013244692466685137.\n",
      "Completed iteration 425 with error 7.992703666204193e-5.\n",
      "Completed iteration 450 with error 4.823314469604156e-5."
     ]
    },
    {
     "name": "stdout",
     "output_type": "stream",
     "text": [
      "\n",
      "Completed iteration 475 with error 2.9107000830919105e-5.\n",
      "Completed iteration 500 with error 1.7565048199941202e-5.\n",
      "Completed iteration 525 with error 1.0599887019679954e-5."
     ]
    },
    {
     "name": "stdout",
     "output_type": "stream",
     "text": [
      "\n",
      "Completed iteration 550 with error 6.396657951768248e-6.\n",
      "Completed iteration 575 with error 3.860157463009273e-6.\n",
      "Completed iteration 600 with error 2.3294688880071135e-6."
     ]
    },
    {
     "name": "stdout",
     "output_type": "stream",
     "text": [
      "\n",
      "Completed iteration 625 with error 1.4057523145538653e-6.\n",
      "Terminated successfully in 643 iterations.\n"
     ]
    },
    {
     "name": "stderr",
     "output_type": "stream",
     "text": [
      "sys:1: UserWarning: Matplotlib is currently using agg, which is a non-GUI backend, so cannot show the figure.\r\n"
     ]
    },
    {
     "ename": "LoadError",
     "evalue": "BoundsError: attempt to access 41-element Vector{Int64} at index [0]",
     "output_type": "error",
     "traceback": [
      "BoundsError: attempt to access 41-element Vector{Int64} at index [0]",
      "",
      "Stacktrace:",
      " [1] getindex",
      "   @ .\\essentials.jl:13 [inlined]",
      " [2] getindex(::Vector{Int64}, ::Int32)",
      "   @ Base .\\abstractarray.jl:1297",
      " [3] sim_inventories(ts_length::Int64, X_init::Int64)",
      "   @ Main .\\In[2]:74",
      " [4] sim_inventories",
      "   @ .\\In[2]:69 [inlined]",
      " [5] plot_ts(; fontsize::Int64, figname::String, savefig::Bool)",
      "   @ Main .\\In[2]:104",
      " [6] top-level scope",
      "   @ In[2]:119"
     ]
    }
   ],
   "source": [
    "include(\"s_approx.jl\")\n",
    "using Distributions\n",
    "m(x) = max(x, 0)  # Convenience function\n",
    "\n",
    "function create_inventory_model(; β=0.98,     # discount factor\n",
    "                                  K=40,       # maximum inventory\n",
    "                                  c=0.2, κ=2, # cost paramters\n",
    "                                  p=0.6)      # demand parameter\n",
    "    ϕ(d) = (1 - p)^d * p        # demand pdf\n",
    "    x_vals = collect(0:K)       # set of inventory levels\n",
    "    return (; β, K, c, κ, p, ϕ, x_vals)\n",
    "end\n",
    "\n",
    "\"The function B(x, a, v) = r(x, a) + β Σ_x′ v(x′) P(x, a, x′).\"\n",
    "function B(x, a, v, model; d_max=100)\n",
    "    (; β, K, c, κ, p, ϕ, x_vals) = model\n",
    "    revenue = sum(min(x, d) * ϕ(d) for d in 0:d_max) \n",
    "    current_profit = revenue - c * a - κ * (a > 0)\n",
    "    next_value = sum(v[m(x - d) + a + 1] * ϕ(d) for d in 0:d_max)\n",
    "    return current_profit + β * next_value\n",
    "end\n",
    "\n",
    "\"The Bellman operator.\"\n",
    "function T(v, model)\n",
    "    (; β, K, c, κ, p, ϕ, x_vals) = model\n",
    "    new_v = similar(v)\n",
    "    for (x_idx, x) in enumerate(x_vals)\n",
    "        Γx = 0:(K - x) \n",
    "        new_v[x_idx], _ = findmax(B(x, a, v, model) for a in Γx)\n",
    "    end\n",
    "    return new_v\n",
    "end\n",
    "\n",
    "\"Get a v-greedy policy.  Returns a zero-based array.\"\n",
    "function get_greedy(v, model)\n",
    "    (; β, K, c, κ, p, ϕ, x_vals) = model\n",
    "    σ_star = zero(x_vals)\n",
    "    for (x_idx, x) in enumerate(x_vals)\n",
    "        Γx = 0:(K - x) \n",
    "        _, a_idx = findmax(B(x, a, v, model) for a in Γx)\n",
    "        σ_star[x_idx] = Γx[a_idx]\n",
    "    end\n",
    "    return σ_star\n",
    "end\n",
    "\n",
    "\"Use successive_approx to get v_star and then compute greedy.\"\n",
    "function solve_inventory_model(v_init, model)\n",
    "    (; β, K, c, κ, p, ϕ, x_vals) = model\n",
    "    v_star = successive_approx(v -> T(v, model), v_init)\n",
    "    σ_star = get_greedy(v_star, model)\n",
    "    return v_star, σ_star\n",
    "end\n",
    "\n",
    "# == Plots == # \n",
    "\n",
    "using PyPlot\n",
    "using PyPlot\n",
    "using LaTeXStrings\n",
    "PyPlot.matplotlib[:rc](\"text\", usetex=true) # allow tex rendering\n",
    "\n",
    "# Create an instance of the model and solve it\n",
    "model = create_inventory_model()\n",
    "(; β, K, c, κ, p, ϕ, x_vals) = model\n",
    "v_init = zeros(length(x_vals))\n",
    "v_star, σ_star = solve_inventory_model(v_init, model)\n",
    "\n",
    "\"Simulate given the optimal policy.\"\n",
    "function sim_inventories(ts_length=400, X_init=0)\n",
    "    G = Geometric(p)\n",
    "    X = zeros(Int32, ts_length)\n",
    "    X[1] = X_init\n",
    "    for t in 1:(ts_length-1)\n",
    "        D = rand(G)\n",
    "        X[t+1] = m(X[t] - D) + σ_star[X[t]]\n",
    "    end\n",
    "    return X\n",
    "end\n",
    "\n",
    "\n",
    "function plot_vstar_and_opt_policy(; fontsize=16, \n",
    "                   figname=\"../figures/inventory_dp_vs.pdf\",\n",
    "                   savefig=false)\n",
    "    fig, axes = plt.subplots(2, 1, figsize=(8, 6.5))\n",
    "\n",
    "    ax = axes[1]\n",
    "    ax.plot(0:K, v_star, label=L\"v^*\")\n",
    "    ax.set_ylabel(\"value\", fontsize=fontsize)\n",
    "    ax.legend(fontsize=fontsize, frameon=false)\n",
    "\n",
    "    ax = axes[2]\n",
    "    ax.plot(0:K, σ_star, label=L\"\\sigma^*\")\n",
    "    ax.set_xlabel(\"inventory\", fontsize=fontsize)\n",
    "    ax.set_ylabel(\"optimal choice\", fontsize=fontsize)\n",
    "    ax.legend(fontsize=fontsize, frameon=false)\n",
    "    plt.show()\n",
    "    if savefig == true\n",
    "        fig.savefig(figname)\n",
    "    end\n",
    "end\n",
    "\n",
    "function plot_ts(; fontsize=16, \n",
    "                   figname=\"../figures/inventory_dp_ts.pdf\",\n",
    "                   savefig=false)\n",
    "    X = sim_inventories()\n",
    "    fig, ax = plt.subplots(figsize=(9, 5.5))\n",
    "    ax.plot(X, label=L\"X_t\", alpha=0.7)\n",
    "    ax.set_xlabel(L\"t\", fontsize=fontsize)\n",
    "    ax.set_ylabel(\"inventory\", fontsize=fontsize)\n",
    "    ax.legend(fontsize=fontsize, frameon=false)\n",
    "    ax.set_ylim(0, maximum(X)+4)\n",
    "    plt.show()\n",
    "    if savefig == true\n",
    "        fig.savefig(figname)\n",
    "    end\n",
    "end\n",
    "\n",
    "plot_vstar_and_opt_policy(savefig=true)\n",
    "\n",
    "plot_ts(savefig=true)"
   ]
  },
  {
   "cell_type": "markdown",
   "id": "74fd3124",
   "metadata": {},
   "source": [
    "#### finite_opt_saving_0.jl"
   ]
  },
  {
   "cell_type": "code",
   "execution_count": 3,
   "id": "77a327e0",
   "metadata": {
    "tags": [
     "hide-input"
    ]
   },
   "outputs": [
    {
     "data": {
      "text/plain": [
       "T_σ"
      ]
     },
     "execution_count": 3,
     "metadata": {},
     "output_type": "execute_result"
    }
   ],
   "source": [
    "using QuantEcon, LinearAlgebra, IterTools\n",
    "\n",
    "function create_savings_model(; R=1.01, β=0.98, γ=2.5,  \n",
    "                                w_min=0.01, w_max=20.0, w_size=200,\n",
    "                                ρ=0.9, ν=0.1, y_size=5)\n",
    "    w_grid = LinRange(w_min, w_max, w_size)  \n",
    "    mc = tauchen(y_size, ρ, ν)\n",
    "    y_grid, Q = exp.(mc.state_values), mc.p\n",
    "    return (; β, R, γ, w_grid, y_grid, Q)\n",
    "end\n",
    "\n",
    "\"B(w, y, w′, v) = u(R*w + y - w′) + β Σ_y′ v(w′, y′) Q(y, y′).\"\n",
    "function B(i, j, k, v, model)\n",
    "    (; β, R, γ, w_grid, y_grid, Q) = model\n",
    "    w, y, w′ = w_grid[i], y_grid[j], w_grid[k]\n",
    "    u(c) = c^(1-γ) / (1-γ)\n",
    "    c = w + y - (w′ / R)\n",
    "    @views value = c > 0 ? u(c) + β * dot(v[k, :], Q[j, :]) : -Inf\n",
    "    return value\n",
    "end\n",
    "\n",
    "\"The Bellman operator.\"\n",
    "function T(v, model)\n",
    "    w_idx, y_idx = (eachindex(g) for g in (model.w_grid, model.y_grid))\n",
    "    v_new = similar(v)\n",
    "    for (i, j) in product(w_idx, y_idx)\n",
    "        v_new[i, j] = maximum(B(i, j, k, v, model) for k in w_idx)\n",
    "    end\n",
    "    return v_new\n",
    "end\n",
    "\n",
    "\"The policy operator.\"\n",
    "function T_σ(v, σ, model)\n",
    "    w_idx, y_idx = (eachindex(g) for g in (model.w_grid, model.y_grid))\n",
    "    v_new = similar(v)\n",
    "    for (i, j) in product(w_idx, y_idx)\n",
    "        v_new[i, j] = B(i, j, σ[i, j], v, model) \n",
    "    end\n",
    "    return v_new\n",
    "end\n",
    "\n",
    "\n"
   ]
  },
  {
   "cell_type": "markdown",
   "id": "e0975d6d",
   "metadata": {},
   "source": [
    "#### finite_opt_saving_1.jl"
   ]
  },
  {
   "cell_type": "code",
   "execution_count": 4,
   "id": "6ea60bbb",
   "metadata": {
    "tags": [
     "hide-input"
    ]
   },
   "outputs": [
    {
     "data": {
      "text/plain": [
       "get_value"
      ]
     },
     "execution_count": 4,
     "metadata": {},
     "output_type": "execute_result"
    }
   ],
   "source": [
    "include(\"finite_opt_saving_0.jl\")\n",
    "\n",
    "\"Compute a v-greedy policy.\"\n",
    "function get_greedy(v, model)\n",
    "    w_idx, y_idx = (eachindex(g) for g in (model.w_grid, model.y_grid))\n",
    "    σ = Matrix{Int32}(undef, length(w_idx), length(y_idx))\n",
    "    for (i, j) in product(w_idx, y_idx)\n",
    "        _, σ[i, j] = findmax(B(i, j, k, v, model) for k in w_idx)\n",
    "    end\n",
    "    return σ\n",
    "end\n",
    "\n",
    "\"Get the value v_σ of policy σ.\"\n",
    "function get_value(σ, model)\n",
    "    # Unpack and set up\n",
    "    (; β, R, γ, w_grid, y_grid, Q) = model\n",
    "    w_idx, y_idx = (eachindex(g) for g in (w_grid, y_grid))\n",
    "    wn, yn = length(w_idx), length(y_idx)\n",
    "    n = wn * yn\n",
    "    u(c) = c^(1-γ) / (1-γ)\n",
    "    # Build P_σ and r_σ as multi-index arrays\n",
    "    P_σ = zeros(wn, yn, wn, yn)\n",
    "    r_σ = zeros(wn, yn)\n",
    "    for (i, j) in product(w_idx, y_idx)\n",
    "            w, y, w′ = w_grid[i], y_grid[j], w_grid[σ[i, j]]\n",
    "            r_σ[i, j] = u(w + y - w′/R)\n",
    "        for (i′, j′) in product(w_idx, y_idx)\n",
    "            if i′ == σ[i, j]\n",
    "                P_σ[i, j, i′, j′] = Q[j, j′]\n",
    "            end\n",
    "        end\n",
    "    end\n",
    "    # Reshape for matrix algebra\n",
    "    P_σ = reshape(P_σ, n, n)\n",
    "    r_σ = reshape(r_σ, n)\n",
    "    # Apply matrix operations --- solve for the value of σ \n",
    "    v_σ = (I - β * P_σ) \\ r_σ\n",
    "    # Return as multi-index array\n",
    "    return reshape(v_σ, wn, yn)\n",
    "end\n",
    "\n",
    "\n"
   ]
  },
  {
   "cell_type": "markdown",
   "id": "f4315f58",
   "metadata": {},
   "source": [
    "#### finite_opt_saving_2.jl"
   ]
  },
  {
   "cell_type": "code",
   "execution_count": 5,
   "id": "9861a623",
   "metadata": {
    "tags": [
     "hide-input"
    ]
   },
   "outputs": [
    {
     "name": "stdout",
     "output_type": "stream",
     "text": [
      "Running Howard policy iteration.\n",
      "Concluded loop 1 with error 100.\n"
     ]
    },
    {
     "name": "stdout",
     "output_type": "stream",
     "text": [
      "Concluded loop 2 with error 80.\n",
      "Concluded loop 3 with error 34.\n",
      "Concluded loop 4 with error 20.\n"
     ]
    },
    {
     "name": "stdout",
     "output_type": "stream",
     "text": [
      "Concluded loop 5 with error 11.\n",
      "Concluded loop 6 with error 5.\n",
      "Concluded loop 7 with error 5.\n",
      "Concluded loop 8 with error 3."
     ]
    },
    {
     "name": "stdout",
     "output_type": "stream",
     "text": [
      "\n",
      "Concluded loop 9 with error 1.\n",
      "Concluded loop 10 with error 1.\n",
      "Concluded loop 11 with error 1.\n",
      "Concluded loop 12 with error 1."
     ]
    },
    {
     "name": "stdout",
     "output_type": "stream",
     "text": [
      "\n",
      "Concluded loop 13 with error 1.\n",
      "Concluded loop 14 with error 1.\n",
      "Concluded loop 15 with error 1.\n",
      "Concluded loop 16 with error 1.\n"
     ]
    },
    {
     "name": "stdout",
     "output_type": "stream",
     "text": [
      "Concluded loop 17 with error 1.\n",
      "Concluded loop 18 with error 1.\n",
      "Concluded loop 19 with error 1.\n",
      "Concluded loop 20 with error 1.\n"
     ]
    },
    {
     "name": "stdout",
     "output_type": "stream",
     "text": [
      "Concluded loop 21 with error 1.\n",
      "Concluded loop 22 with error 1.\n",
      "Concluded loop 23 with error 1.\n",
      "Concluded loop 24 with error 0.\n",
      "PI completed in 0.7611795 seconds.\n",
      "Running value function iteration."
     ]
    },
    {
     "name": "stdout",
     "output_type": "stream",
     "text": [
      "\n",
      "Completed iteration 25 with error 0.536460823305255."
     ]
    },
    {
     "name": "stdout",
     "output_type": "stream",
     "text": [
      "\n",
      "Completed iteration 50 with error 0.2757145835707817."
     ]
    },
    {
     "name": "stdout",
     "output_type": "stream",
     "text": [
      "\n",
      "Completed iteration 75 with error 0.15964723339326525."
     ]
    },
    {
     "name": "stdout",
     "output_type": "stream",
     "text": [
      "\n",
      "Completed iteration 100 with error 0.0949415406202121."
     ]
    },
    {
     "name": "stdout",
     "output_type": "stream",
     "text": [
      "\n",
      "Completed iteration 125 with error 0.056923225476566586."
     ]
    },
    {
     "name": "stdout",
     "output_type": "stream",
     "text": [
      "\n",
      "Completed iteration 150 with error 0.034240232785961666."
     ]
    },
    {
     "name": "stdout",
     "output_type": "stream",
     "text": [
      "\n",
      "Completed iteration 175 with error 0.02062794785982902."
     ]
    },
    {
     "name": "stdout",
     "output_type": "stream",
     "text": [
      "\n",
      "Completed iteration 200 with error 0.012437154854268329."
     ]
    },
    {
     "name": "stdout",
     "output_type": "stream",
     "text": [
      "\n",
      "Completed iteration 225 with error 0.007501837673245859."
     ]
    },
    {
     "name": "stdout",
     "output_type": "stream",
     "text": [
      "\n",
      "Completed iteration 250 with error 0.004525955103851231."
     ]
    },
    {
     "name": "stdout",
     "output_type": "stream",
     "text": [
      "\n",
      "Completed iteration 275 with error 0.0027308880659973056."
     ]
    },
    {
     "name": "stdout",
     "output_type": "stream",
     "text": [
      "\n",
      "Completed iteration 300 with error 0.0016478769789003422."
     ]
    },
    {
     "name": "stdout",
     "output_type": "stream",
     "text": [
      "\n",
      "Completed iteration 325 with error 0.0009943978415378751."
     ]
    },
    {
     "name": "stdout",
     "output_type": "stream",
     "text": [
      "\n",
      "Completed iteration 350 with error 0.0006000718833334417.\n"
     ]
    },
    {
     "name": "stdout",
     "output_type": "stream",
     "text": [
      "Completed iteration 375 with error 0.000362118316374449.\n"
     ]
    },
    {
     "name": "stdout",
     "output_type": "stream",
     "text": [
      "Completed iteration 400 with error 0.0002185243788304092."
     ]
    },
    {
     "name": "stdout",
     "output_type": "stream",
     "text": [
      "\n",
      "Completed iteration 425 with error 0.00013187135262171523."
     ]
    },
    {
     "name": "stdout",
     "output_type": "stream",
     "text": [
      "\n",
      "Completed iteration 450 with error 7.957958084148231e-5."
     ]
    },
    {
     "name": "stdout",
     "output_type": "stream",
     "text": [
      "\n",
      "Completed iteration 475 with error 4.802342870391385e-5."
     ]
    },
    {
     "name": "stdout",
     "output_type": "stream",
     "text": [
      "\n",
      "Completed iteration 500 with error 2.898043207721912e-5."
     ]
    },
    {
     "name": "stdout",
     "output_type": "stream",
     "text": [
      "\n",
      "Completed iteration 525 with error 1.7488664326492653e-5."
     ]
    },
    {
     "name": "stdout",
     "output_type": "stream",
     "text": [
      "\n",
      "Completed iteration 550 with error 1.0553790730227774e-5.\n",
      "Terminated successfully in 554 iterations.\n",
      "VFI completed in 4.430755 seconds.\n",
      "Running optimistic policy iteration with m=1."
     ]
    },
    {
     "name": "stdout",
     "output_type": "stream",
     "text": [
      "\n",
      "OPI with m=1 completed in 4.5323017 seconds.\n",
      "Running optimistic policy iteration with m=11."
     ]
    },
    {
     "name": "stdout",
     "output_type": "stream",
     "text": [
      "\n",
      "OPI with m=11 completed in 0.5533143 seconds.\n",
      "Running optimistic policy iteration with m=21."
     ]
    },
    {
     "name": "stdout",
     "output_type": "stream",
     "text": [
      "\n",
      "OPI with m=21 completed in 0.3313178 seconds.\n",
      "Running optimistic policy iteration with m=31."
     ]
    },
    {
     "name": "stdout",
     "output_type": "stream",
     "text": [
      "\n",
      "OPI with m=31 completed in 0.2710279 seconds.\n",
      "Running optimistic policy iteration with m=41."
     ]
    },
    {
     "name": "stdout",
     "output_type": "stream",
     "text": [
      "\n",
      "OPI with m=41 completed in 0.235232 seconds.\n",
      "Running optimistic policy iteration with m=51."
     ]
    },
    {
     "name": "stdout",
     "output_type": "stream",
     "text": [
      "\n",
      "OPI with m=51 completed in 0.3117622 seconds.\n",
      "Running optimistic policy iteration with m=61.\n"
     ]
    },
    {
     "name": "stdout",
     "output_type": "stream",
     "text": [
      "OPI with m=61 completed in 0.2638626 seconds.\n",
      "Running optimistic policy iteration with m=71."
     ]
    },
    {
     "name": "stdout",
     "output_type": "stream",
     "text": [
      "\n",
      "OPI with m=71 completed in 0.3292559 seconds.\n",
      "Running optimistic policy iteration with m=81.\n"
     ]
    },
    {
     "name": "stdout",
     "output_type": "stream",
     "text": [
      "OPI with m=81 completed in 0.3491648 seconds.\n",
      "Running optimistic policy iteration with m=91."
     ]
    },
    {
     "name": "stdout",
     "output_type": "stream",
     "text": [
      "\n",
      "OPI with m=91 completed in 0.3617478 seconds.\n",
      "Running optimistic policy iteration with m=101."
     ]
    },
    {
     "name": "stdout",
     "output_type": "stream",
     "text": [
      "\n",
      "OPI with m=101 completed in 0.3837101 seconds.\n",
      "Running optimistic policy iteration with m=111."
     ]
    },
    {
     "name": "stdout",
     "output_type": "stream",
     "text": [
      "\n",
      "OPI with m=111 completed in 0.39437 seconds.\n",
      "Running optimistic policy iteration with m=121."
     ]
    },
    {
     "name": "stdout",
     "output_type": "stream",
     "text": [
      "\n",
      "OPI with m=121 completed in 0.419159 seconds.\n",
      "Running optimistic policy iteration with m=131."
     ]
    },
    {
     "name": "stdout",
     "output_type": "stream",
     "text": [
      "\n",
      "OPI with m=131 completed in 0.4278058 seconds.\n",
      "Running optimistic policy iteration with m=141."
     ]
    },
    {
     "name": "stdout",
     "output_type": "stream",
     "text": [
      "\n",
      "OPI with m=141 completed in 0.4506154 seconds.\n",
      "Running optimistic policy iteration with m=151."
     ]
    },
    {
     "name": "stdout",
     "output_type": "stream",
     "text": [
      "\n",
      "OPI with m=151 completed in 0.4753003 seconds.\n",
      "Running optimistic policy iteration with m=161."
     ]
    },
    {
     "name": "stdout",
     "output_type": "stream",
     "text": [
      "\n",
      "OPI with m=161 completed in 0.4742674 seconds.\n",
      "Running optimistic policy iteration with m=171."
     ]
    },
    {
     "name": "stdout",
     "output_type": "stream",
     "text": [
      "\n",
      "OPI with m=171 completed in 0.5000354 seconds.\n",
      "Running optimistic policy iteration with m=181."
     ]
    },
    {
     "name": "stdout",
     "output_type": "stream",
     "text": [
      "\n",
      "OPI with m=181 completed in 0.5183916 seconds.\n",
      "Running optimistic policy iteration with m=191.\n"
     ]
    },
    {
     "name": "stdout",
     "output_type": "stream",
     "text": [
      "OPI with m=191 completed in 0.5397973 seconds.\n",
      "Running optimistic policy iteration with m=201."
     ]
    },
    {
     "name": "stdout",
     "output_type": "stream",
     "text": [
      "\n",
      "OPI with m=201 completed in 0.5499735 seconds.\n",
      "Running optimistic policy iteration with m=211.\n"
     ]
    },
    {
     "name": "stdout",
     "output_type": "stream",
     "text": [
      "OPI with m=211 completed in 0.5648973 seconds.\n",
      "Running optimistic policy iteration with m=221."
     ]
    },
    {
     "name": "stdout",
     "output_type": "stream",
     "text": [
      "\n",
      "OPI with m=221 completed in 0.58132 seconds.\n",
      "Running optimistic policy iteration with m=231."
     ]
    },
    {
     "name": "stdout",
     "output_type": "stream",
     "text": [
      "\n",
      "OPI with m=231 completed in 0.5990778 seconds.\n",
      "Running optimistic policy iteration with m=241."
     ]
    },
    {
     "name": "stdout",
     "output_type": "stream",
     "text": [
      "\n",
      "OPI with m=241 completed in 0.6164306 seconds.\n",
      "Running optimistic policy iteration with m=251."
     ]
    },
    {
     "name": "stdout",
     "output_type": "stream",
     "text": [
      "\n",
      "OPI with m=251 completed in 0.6321876 seconds.\n",
      "Running optimistic policy iteration with m=261."
     ]
    },
    {
     "name": "stdout",
     "output_type": "stream",
     "text": [
      "\n",
      "OPI with m=261 completed in 0.6602937 seconds.\n",
      "Running optimistic policy iteration with m=271."
     ]
    },
    {
     "name": "stdout",
     "output_type": "stream",
     "text": [
      "\n",
      "OPI with m=271 completed in 0.6679341 seconds.\n",
      "Running optimistic policy iteration with m=281."
     ]
    },
    {
     "name": "stdout",
     "output_type": "stream",
     "text": [
      "\n",
      "OPI with m=281 completed in 0.6871431 seconds.\n",
      "Running optimistic policy iteration with m=291."
     ]
    },
    {
     "name": "stdout",
     "output_type": "stream",
     "text": [
      "\n",
      "OPI with m=291 completed in 0.6991867 seconds.\n",
      "Running optimistic policy iteration with m=301."
     ]
    },
    {
     "name": "stdout",
     "output_type": "stream",
     "text": [
      "\n",
      "OPI with m=301 completed in 0.7165713 seconds.\n",
      "Running optimistic policy iteration with m=311."
     ]
    },
    {
     "name": "stdout",
     "output_type": "stream",
     "text": [
      "\n",
      "OPI with m=311 completed in 0.7395071 seconds.\n",
      "Running optimistic policy iteration with m=321."
     ]
    },
    {
     "name": "stdout",
     "output_type": "stream",
     "text": [
      "\n",
      "OPI with m=321 completed in 0.7557596 seconds.\n",
      "Running optimistic policy iteration with m=331."
     ]
    },
    {
     "name": "stdout",
     "output_type": "stream",
     "text": [
      "\n",
      "OPI with m=331 completed in 0.7709498 seconds.\n",
      "Running optimistic policy iteration with m=341."
     ]
    },
    {
     "name": "stdout",
     "output_type": "stream",
     "text": [
      "\n",
      "OPI with m=341 completed in 0.7820899 seconds.\n",
      "Running optimistic policy iteration with m=351."
     ]
    },
    {
     "name": "stdout",
     "output_type": "stream",
     "text": [
      "\n",
      "OPI with m=351 completed in 0.8020513 seconds.\n",
      "Running optimistic policy iteration with m=361.\n"
     ]
    },
    {
     "name": "stdout",
     "output_type": "stream",
     "text": [
      "OPI with m=361 completed in 0.8152742 seconds.\n",
      "Running optimistic policy iteration with m=371."
     ]
    },
    {
     "name": "stdout",
     "output_type": "stream",
     "text": [
      "\n",
      "OPI with m=371 completed in 0.837114 seconds.\n",
      "Running optimistic policy iteration with m=381."
     ]
    },
    {
     "name": "stdout",
     "output_type": "stream",
     "text": [
      "\n",
      "OPI with m=381 completed in 0.8783962 seconds.\n",
      "Running optimistic policy iteration with m=391."
     ]
    },
    {
     "name": "stdout",
     "output_type": "stream",
     "text": [
      "\n",
      "OPI with m=391 completed in 0.874194 seconds.\n",
      "Running optimistic policy iteration with m=401."
     ]
    },
    {
     "name": "stdout",
     "output_type": "stream",
     "text": [
      "\n",
      "OPI with m=401 completed in 0.8836193 seconds.\n",
      "Running optimistic policy iteration with m=411."
     ]
    },
    {
     "name": "stdout",
     "output_type": "stream",
     "text": [
      "\n",
      "OPI with m=411 completed in 0.906362 seconds.\n",
      "Running optimistic policy iteration with m=421."
     ]
    },
    {
     "name": "stdout",
     "output_type": "stream",
     "text": [
      "\n",
      "OPI with m=421 completed in 0.93967 seconds.\n",
      "Running optimistic policy iteration with m=431."
     ]
    },
    {
     "name": "stdout",
     "output_type": "stream",
     "text": [
      "\n",
      "OPI with m=431 completed in 0.9399591 seconds.\n",
      "Running optimistic policy iteration with m=441."
     ]
    },
    {
     "name": "stdout",
     "output_type": "stream",
     "text": [
      "\n",
      "OPI with m=441 completed in 0.9566595 seconds.\n",
      "Running optimistic policy iteration with m=451."
     ]
    },
    {
     "name": "stdout",
     "output_type": "stream",
     "text": [
      "\n",
      "OPI with m=451 completed in 0.9724736 seconds.\n",
      "Running optimistic policy iteration with m=461."
     ]
    },
    {
     "name": "stdout",
     "output_type": "stream",
     "text": [
      "\n",
      "OPI with m=461 completed in 0.9977321 seconds.\n",
      "Running optimistic policy iteration with m=471."
     ]
    },
    {
     "name": "stdout",
     "output_type": "stream",
     "text": [
      "\n",
      "OPI with m=471 completed in 1.0071451 seconds.\n",
      "Running optimistic policy iteration with m=481."
     ]
    },
    {
     "name": "stdout",
     "output_type": "stream",
     "text": [
      "\n",
      "OPI with m=481 completed in 1.030004 seconds.\n",
      "Running optimistic policy iteration with m=491."
     ]
    },
    {
     "name": "stdout",
     "output_type": "stream",
     "text": [
      "\n",
      "OPI with m=491 completed in 1.0412974 seconds.\n",
      "Running optimistic policy iteration with m=501.\n"
     ]
    },
    {
     "name": "stdout",
     "output_type": "stream",
     "text": [
      "OPI with m=501 completed in 1.0517809 seconds.\n",
      "Running optimistic policy iteration with m=511."
     ]
    },
    {
     "name": "stdout",
     "output_type": "stream",
     "text": [
      "\n",
      "OPI with m=511 completed in 1.0710108 seconds.\n",
      "Running optimistic policy iteration with m=521."
     ]
    },
    {
     "name": "stdout",
     "output_type": "stream",
     "text": [
      "\n",
      "OPI with m=521 completed in 1.0915692 seconds.\n",
      "Running optimistic policy iteration with m=531."
     ]
    },
    {
     "name": "stdout",
     "output_type": "stream",
     "text": [
      "\n",
      "OPI with m=531 completed in 1.1075439 seconds.\n",
      "Running optimistic policy iteration with m=541."
     ]
    },
    {
     "name": "stdout",
     "output_type": "stream",
     "text": [
      "\n",
      "OPI with m=541 completed in 1.1203449 seconds.\n",
      "Running optimistic policy iteration with m=551."
     ]
    },
    {
     "name": "stdout",
     "output_type": "stream",
     "text": [
      "\n",
      "OPI with m=551 completed in 1.1414135 seconds.\n",
      "Running optimistic policy iteration with m=561."
     ]
    },
    {
     "name": "stdout",
     "output_type": "stream",
     "text": [
      "\n",
      "OPI with m=561 completed in 1.1555834 seconds.\n",
      "Running optimistic policy iteration with m=571."
     ]
    },
    {
     "name": "stdout",
     "output_type": "stream",
     "text": [
      "\n",
      "OPI with m=571 completed in 1.1742971 seconds.\n",
      "Running optimistic policy iteration with m=581."
     ]
    },
    {
     "name": "stdout",
     "output_type": "stream",
     "text": [
      "\n",
      "OPI with m=581 completed in 1.187673 seconds.\n",
      "Running optimistic policy iteration with m=591."
     ]
    },
    {
     "name": "stdout",
     "output_type": "stream",
     "text": [
      "\n",
      "OPI with m=591 completed in 1.2009504 seconds."
     ]
    },
    {
     "name": "stdout",
     "output_type": "stream",
     "text": [
      "\n",
      "Concluded loop 1 with error 100.\n",
      "Concluded loop 2 with error 80.\n",
      "Concluded loop 3 with error 34.\n"
     ]
    },
    {
     "name": "stdout",
     "output_type": "stream",
     "text": [
      "Concluded loop 4 with error 20.\n",
      "Concluded loop 5 with error 11.\n",
      "Concluded loop 6 with error 5.\n",
      "Concluded loop 7 with error 5."
     ]
    },
    {
     "name": "stdout",
     "output_type": "stream",
     "text": [
      "\n",
      "Concluded loop 8 with error 3.\n",
      "Concluded loop 9 with error 1.\n",
      "Concluded loop 10 with error 1.\n",
      "Concluded loop 11 with error 1.\n"
     ]
    },
    {
     "name": "stdout",
     "output_type": "stream",
     "text": [
      "Concluded loop 12 with error 1.\n",
      "Concluded loop 13 with error 1.\n",
      "Concluded loop 14 with error 1.\n",
      "Concluded loop 15 with error 1.\n"
     ]
    },
    {
     "name": "stdout",
     "output_type": "stream",
     "text": [
      "Concluded loop 16 with error 1.\n",
      "Concluded loop 17 with error 1.\n",
      "Concluded loop 18 with error 1.\n",
      "Concluded loop 19 with error 1."
     ]
    },
    {
     "name": "stdout",
     "output_type": "stream",
     "text": [
      "\n",
      "Concluded loop 20 with error 1.\n",
      "Concluded loop 21 with error 1.\n",
      "Concluded loop 22 with error 1.\n",
      "Concluded loop 23 with error 1."
     ]
    },
    {
     "name": "stdout",
     "output_type": "stream",
     "text": [
      "\n",
      "Concluded loop 24 with error 0.\n"
     ]
    },
    {
     "data": {
      "image/png": "[encoded data removed]",
      "text/plain": [
       "Figure(PyObject <Figure size 900x520 with 1 Axes>)"
      ]
     },
     "metadata": {},
     "output_type": "display_data"
    },
    {
     "data": {
      "image/png": "[encoded data removed]",
      "text/plain": [
       "Figure(PyObject <Figure size 900x520 with 1 Axes>)"
      ]
     },
     "metadata": {},
     "output_type": "display_data"
    },
    {
     "data": {
      "image/png": "[encoded data removed]",
      "text/plain": [
       "Figure(PyObject <Figure size 900x520 with 1 Axes>)"
      ]
     },
     "metadata": {},
     "output_type": "display_data"
    },
    {
     "data": {
      "image/png": "[encoded data removed]",
      "text/plain": [
       "Figure(PyObject <Figure size 900x520 with 1 Axes>)"
      ]
     },
     "metadata": {},
     "output_type": "display_data"
    },
    {
     "data": {
      "image/png": "[encoded data removed]",
      "text/plain": [
       "Figure(PyObject <Figure size 900x520 with 1 Axes>)"
      ]
     },
     "metadata": {},
     "output_type": "display_data"
    }
   ],
   "source": [
    "include(\"s_approx.jl\")\n",
    "include(\"finite_opt_saving_1.jl\")\n",
    "\n",
    "\"Value function iteration routine.\"\n",
    "function value_iteration(model, tol=1e-5)\n",
    "    vz = zeros(length(model.w_grid), length(model.y_grid))\n",
    "    v_star = successive_approx(v -> T(v, model), vz, tolerance=tol)\n",
    "    return get_greedy(v_star, model)\n",
    "end\n",
    "\n",
    "\"Howard policy iteration routine.\"\n",
    "function policy_iteration(model)\n",
    "    wn, yn = length(model.w_grid), length(model.y_grid)\n",
    "    σ = ones(Int32, wn, yn)\n",
    "    i, error = 0, 1.0\n",
    "    while error > 0\n",
    "        v_σ = get_value(σ, model)\n",
    "        σ_new = get_greedy(v_σ, model)\n",
    "        error = maximum(abs.(σ_new - σ))\n",
    "        σ = σ_new\n",
    "        i = i + 1\n",
    "        println(\"Concluded loop $i with error $error.\")\n",
    "    end\n",
    "    return σ\n",
    "end\n",
    "\n",
    "\"Optimistic policy iteration routine.\"\n",
    "function optimistic_policy_iteration(model; tolerance=1e-5, m=100)\n",
    "    v = zeros(length(model.w_grid), length(model.y_grid))\n",
    "    error = tolerance + 1\n",
    "    while error > tolerance\n",
    "        last_v = v\n",
    "        σ = get_greedy(v, model)\n",
    "        for i in 1:m\n",
    "            v = T_σ(v, σ, model)\n",
    "        end\n",
    "        error = maximum(abs.(v - last_v))\n",
    "    end\n",
    "    return get_greedy(v, model)\n",
    "end\n",
    "\n",
    "# == Simulations and inequality measures == #\n",
    "\n",
    "function simulate_wealth(m)\n",
    "\n",
    "    model = create_savings_model()\n",
    "    σ_star = optimistic_policy_iteration(model)\n",
    "    (; β, R, γ, w_grid, y_grid, Q) = model\n",
    "\n",
    "    # Simulate labor income (indices rather than grid values)\n",
    "    mc = MarkovChain(Q)\n",
    "    y_idx_series = simulate(mc, m)\n",
    "\n",
    "    # Compute corresponding wealth time series\n",
    "    w_idx_series = similar(y_idx_series)\n",
    "    w_idx_series[1] = 1  # initial condition\n",
    "    for t in 1:(m-1)\n",
    "        i, j = w_idx_series[t], y_idx_series[t]\n",
    "        w_idx_series[t+1] = σ_star[i, j]\n",
    "    end\n",
    "    w_series = w_grid[w_idx_series]\n",
    "\n",
    "    return w_series\n",
    "end\n",
    "\n",
    "function lorenz(v)  # assumed sorted vector\n",
    "    S = cumsum(v)  # cumulative sums: [v[1], v[1] + v[2], ... ]\n",
    "    F = (1:length(v)) / length(v)\n",
    "    L = S ./ S[end]\n",
    "    return (; F, L) # returns named tuple\n",
    "end\n",
    "\n",
    "gini(v) = (2 * sum(i * y for (i,y) in enumerate(v))/sum(v)\n",
    "           - (length(v) + 1))/length(v)\n",
    "\n",
    "\n",
    "\n",
    "# == Plots == #\n",
    "\n",
    "using PyPlot\n",
    "using LaTeXStrings\n",
    "PyPlot.matplotlib[:rc](\"text\", usetex=true) # allow tex rendering\n",
    "fontsize=16\n",
    "\n",
    "function plot_timing(; m_vals=collect(range(1, 600, step=10)),\n",
    "                       savefig=false)\n",
    "    model = create_savings_model(y_size=5)\n",
    "    println(\"Running Howard policy iteration.\")\n",
    "    pi_time = @elapsed σ_pi = policy_iteration(model)\n",
    "    println(\"PI completed in $pi_time seconds.\")\n",
    "    println(\"Running value function iteration.\")\n",
    "    vfi_time = @elapsed σ_vfi = value_iteration(model)\n",
    "    println(\"VFI completed in $vfi_time seconds.\")\n",
    "    @assert σ_vfi == σ_pi \"Warning: policies deviated.\"\n",
    "    opi_times = []\n",
    "    for m in m_vals\n",
    "        println(\"Running optimistic policy iteration with m=$m.\")\n",
    "        opi_time = @elapsed σ_opi = optimistic_policy_iteration(model, m=m)\n",
    "        @assert σ_opi == σ_pi \"Warning: policies deviated.\"\n",
    "        println(\"OPI with m=$m completed in $opi_time seconds.\")\n",
    "        push!(opi_times, opi_time)\n",
    "    end\n",
    "    fig, ax = plt.subplots(figsize=(9, 5.2))\n",
    "    ax.plot(m_vals, fill(vfi_time, length(m_vals)), \n",
    "            lw=2, label=\"value function iteration\")\n",
    "    ax.plot(m_vals, fill(pi_time, length(m_vals)), \n",
    "            lw=2, label=\"Howard policy iteration\")\n",
    "    ax.plot(m_vals, opi_times, lw=2, label=\"optimistic policy iteration\")\n",
    "    ax.legend(fontsize=fontsize, frameon=false)\n",
    "    ax.set_xlabel(L\"m\", fontsize=fontsize)\n",
    "    ax.set_ylabel(\"time\", fontsize=fontsize)\n",
    "    plt.show()\n",
    "    if savefig\n",
    "        fig.savefig(\"../figures/finite_opt_saving_2_1.pdf\")\n",
    "    end\n",
    "    return (pi_time, vfi_time, opi_times)\n",
    "end\n",
    "\n",
    "function plot_policy(; method=\"pi\")\n",
    "    model = create_savings_model()\n",
    "    (; β, R, γ, w_grid, y_grid, Q) = model\n",
    "    if method == \"vfi\"\n",
    "        σ_star =  value_iteration(model) \n",
    "    elseif method == \"pi\"\n",
    "        σ_star = policy_iteration(model) \n",
    "    else\n",
    "        σ_star = optimistic_policy_iteration(model)\n",
    "    end\n",
    "    fig, ax = plt.subplots(figsize=(9, 5.2))\n",
    "    ax.plot(w_grid, w_grid, \"k--\", label=L\"45\")\n",
    "    ax.plot(w_grid, w_grid[σ_star[:, 1]], label=L\"\\sigma^*(\\cdot, y_1)\")\n",
    "    ax.plot(w_grid, w_grid[σ_star[:, end]], label=L\"\\sigma^*(\\cdot, y_N)\")\n",
    "    ax.legend(fontsize=fontsize)\n",
    "    plt.show()\n",
    "end\n",
    "\n",
    "\n",
    "function plot_time_series(; m=2_000,\n",
    "                           savefig=false, \n",
    "                           figname=\"../figures/finite_opt_saving_ts.pdf\")\n",
    "\n",
    "    w_series = simulate_wealth(m)\n",
    "    fig, ax = plt.subplots(figsize=(9, 5.2))\n",
    "    ax.plot(w_series, label=L\"w_t\")\n",
    "    ax.set_xlabel(\"time\", fontsize=fontsize)\n",
    "    ax.legend(fontsize=fontsize)\n",
    "    plt.show()\n",
    "    if savefig\n",
    "        fig.savefig(figname)\n",
    "    end\n",
    "end\n",
    "\n",
    "function plot_histogram(; m=1_000_000,\n",
    "                           savefig=false, \n",
    "                           figname=\"../figures/finite_opt_saving_hist.pdf\")\n",
    "\n",
    "    w_series = simulate_wealth(m)\n",
    "    g = round(gini(sort(w_series)), digits=2)\n",
    "    fig, ax = plt.subplots(figsize=(9, 5.2))\n",
    "    ax.hist(w_series, bins=40, density=true)\n",
    "    ax.set_xlabel(\"wealth\", fontsize=fontsize)\n",
    "    ax.text(15, 0.4, \"Gini = $g\", fontsize=fontsize)\n",
    "    plt.show()\n",
    "\n",
    "    if savefig\n",
    "        fig.savefig(figname)\n",
    "    end\n",
    "end\n",
    "\n",
    "function plot_lorenz(; m=1_000_000,\n",
    "                           savefig=false, \n",
    "                           figname=\"../figures/finite_opt_saving_lorenz.pdf\")\n",
    "\n",
    "    w_series = simulate_wealth(m)\n",
    "    (; F, L) = lorenz(sort(w_series))\n",
    "\n",
    "    fig, ax = plt.subplots(figsize=(9, 5.2))\n",
    "    ax.plot(F, F, label=\"Lorenz curve, equality\")\n",
    "    ax.plot(F, L, label=\"Lorenz curve, wealth distribution\")\n",
    "    ax.legend()\n",
    "    plt.show()\n",
    "\n",
    "    if savefig\n",
    "        fig.savefig(figname)\n",
    "    end\n",
    "end\n",
    "\n",
    "plot_timing(savefig=true)\n",
    "\n",
    "plot_policy()\n",
    "\n",
    "plot_time_series(savefig=true)\n",
    "\n",
    "plot_histogram(savefig=true)\n",
    "\n",
    "plot_lorenz(savefig=true)"
   ]
  },
  {
   "cell_type": "markdown",
   "id": "670d9239",
   "metadata": {},
   "source": [
    "#### finite_lq.jl"
   ]
  },
  {
   "cell_type": "code",
   "execution_count": 6,
   "id": "c4f8f48e",
   "metadata": {
    "tags": [
     "hide-input"
    ]
   },
   "outputs": [
    {
     "name": "stdout",
     "output_type": "stream",
     "text": [
      "Running value function iteration."
     ]
    },
    {
     "name": "stdout",
     "output_type": "stream",
     "text": [
      "\n",
      "Completed iteration 25 with error 8.945294734337608.\n"
     ]
    },
    {
     "name": "stdout",
     "output_type": "stream",
     "text": [
      "Completed iteration 50 with error 3.0402862553364685."
     ]
    },
    {
     "name": "stdout",
     "output_type": "stream",
     "text": [
      "\n",
      "Completed iteration 75 with error 1.1324022887380352."
     ]
    },
    {
     "name": "stdout",
     "output_type": "stream",
     "text": [
      "\n",
      "Completed iteration 100 with error 0.42457216331251857."
     ]
    },
    {
     "name": "stdout",
     "output_type": "stream",
     "text": [
      "\n",
      "Completed iteration 125 with error 0.15925863812981333."
     ]
    },
    {
     "name": "stdout",
     "output_type": "stream",
     "text": [
      "\n",
      "Completed iteration 150 with error 0.05974044697506997.\n"
     ]
    },
    {
     "name": "stdout",
     "output_type": "stream",
     "text": [
      "Completed iteration 175 with error 0.02240964166935555."
     ]
    },
    {
     "name": "stdout",
     "output_type": "stream",
     "text": [
      "\n",
      "Completed iteration 200 with error 0.008406233024402354."
     ]
    },
    {
     "name": "stdout",
     "output_type": "stream",
     "text": [
      "\n",
      "Completed iteration 225 with error 0.003153319248781372."
     ]
    },
    {
     "name": "stdout",
     "output_type": "stream",
     "text": [
      "\n",
      "Completed iteration 250 with error 0.0011828630332502144."
     ]
    },
    {
     "name": "stdout",
     "output_type": "stream",
     "text": [
      "\n",
      "Completed iteration 275 with error 0.00044371179876634415."
     ]
    },
    {
     "name": "stdout",
     "output_type": "stream",
     "text": [
      "\n",
      "Completed iteration 300 with error 0.000166443751368206."
     ]
    },
    {
     "name": "stdout",
     "output_type": "stream",
     "text": [
      "\n",
      "Completed iteration 325 with error 6.243584812182235e-5."
     ]
    },
    {
     "name": "stdout",
     "output_type": "stream",
     "text": [
      "\n",
      "Completed iteration 350 with error 2.3420735942636384e-5."
     ]
    },
    {
     "name": "stdout",
     "output_type": "stream",
     "text": [
      "\n",
      "Terminated successfully in 373 iterations.\n",
      "VFI completed in 30.5157885 seconds.\n",
      "Running optimistic policy iteration with m=1.\n"
     ]
    },
    {
     "name": "stdout",
     "output_type": "stream",
     "text": [
      "OPI with m=1 completed in 30.0021369 seconds.\n",
      "Running optimistic policy iteration with m=11.\n"
     ]
    },
    {
     "name": "stdout",
     "output_type": "stream",
     "text": [
      "OPI with m=11 completed in 3.6157136 seconds.\n",
      "Running optimistic policy iteration with m=21."
     ]
    },
    {
     "name": "stdout",
     "output_type": "stream",
     "text": [
      "\n",
      "OPI with m=21 completed in 2.1288789 seconds.\n",
      "Running optimistic policy iteration with m=31."
     ]
    },
    {
     "name": "stdout",
     "output_type": "stream",
     "text": [
      "\n",
      "OPI with m=31 completed in 1.5122105 seconds.\n",
      "Running optimistic policy iteration with m=41."
     ]
    },
    {
     "name": "stdout",
     "output_type": "stream",
     "text": [
      "\n",
      "OPI with m=41 completed in 1.3558114 seconds.\n",
      "Running optimistic policy iteration with m=51."
     ]
    },
    {
     "name": "stdout",
     "output_type": "stream",
     "text": [
      "\n",
      "OPI with m=51 completed in 1.3664477 seconds.\n",
      "Running optimistic policy iteration with m=61."
     ]
    },
    {
     "name": "stdout",
     "output_type": "stream",
     "text": [
      "\n",
      "OPI with m=61 completed in 1.4008384 seconds.\n",
      "Running optimistic policy iteration with m=71."
     ]
    },
    {
     "name": "stdout",
     "output_type": "stream",
     "text": [
      "\n",
      "OPI with m=71 completed in 1.1977423 seconds.\n",
      "Running optimistic policy iteration with m=81."
     ]
    },
    {
     "name": "stdout",
     "output_type": "stream",
     "text": [
      "\n",
      "OPI with m=81 completed in 1.2470706 seconds.\n",
      "Running optimistic policy iteration with m=91."
     ]
    },
    {
     "name": "stdout",
     "output_type": "stream",
     "text": [
      "\n",
      "OPI with m=91 completed in 1.2941667 seconds.\n",
      "Running optimistic policy iteration with m=101.\n"
     ]
    },
    {
     "name": "stdout",
     "output_type": "stream",
     "text": [
      "OPI with m=101 completed in 1.4722165 seconds.\n",
      "Running optimistic policy iteration with m=111."
     ]
    },
    {
     "name": "stdout",
     "output_type": "stream",
     "text": [
      "\n",
      "OPI with m=111 completed in 1.4123526 seconds.\n",
      "Running optimistic policy iteration with m=121."
     ]
    },
    {
     "name": "stdout",
     "output_type": "stream",
     "text": [
      "\n",
      "OPI with m=121 completed in 1.4949566 seconds.\n",
      "Running optimistic policy iteration with m=131."
     ]
    },
    {
     "name": "stdout",
     "output_type": "stream",
     "text": [
      "\n",
      "OPI with m=131 completed in 1.5533132 seconds.\n",
      "Running optimistic policy iteration with m=141."
     ]
    },
    {
     "name": "stdout",
     "output_type": "stream",
     "text": [
      "\n",
      "OPI with m=141 completed in 1.8184728 seconds.\n",
      "Running optimistic policy iteration with m=151."
     ]
    },
    {
     "name": "stdout",
     "output_type": "stream",
     "text": [
      "\n",
      "OPI with m=151 completed in 2.0631206 seconds.\n",
      "Running optimistic policy iteration with m=161."
     ]
    },
    {
     "name": "stdout",
     "output_type": "stream",
     "text": [
      "\n",
      "OPI with m=161 completed in 2.0589808 seconds.\n",
      "Running optimistic policy iteration with m=171."
     ]
    },
    {
     "name": "stdout",
     "output_type": "stream",
     "text": [
      "\n",
      "OPI with m=171 completed in 2.0355337 seconds.\n",
      "Running optimistic policy iteration with m=181."
     ]
    },
    {
     "name": "stdout",
     "output_type": "stream",
     "text": [
      "\n",
      "OPI with m=181 completed in 2.0409165 seconds.\n",
      "Running optimistic policy iteration with m=191."
     ]
    },
    {
     "name": "stdout",
     "output_type": "stream",
     "text": [
      "\n",
      "OPI with m=191 completed in 1.9262923 seconds.\n",
      "Running optimistic policy iteration with m=201.\n"
     ]
    },
    {
     "name": "stdout",
     "output_type": "stream",
     "text": [
      "OPI with m=201 completed in 1.9992341 seconds.\n",
      "Running optimistic policy iteration with m=211."
     ]
    },
    {
     "name": "stdout",
     "output_type": "stream",
     "text": [
      "\n",
      "OPI with m=211 completed in 2.0492736 seconds.\n",
      "Running optimistic policy iteration with m=221."
     ]
    },
    {
     "name": "stdout",
     "output_type": "stream",
     "text": [
      "\n",
      "OPI with m=221 completed in 2.0956382 seconds.\n",
      "Running optimistic policy iteration with m=231."
     ]
    },
    {
     "name": "stdout",
     "output_type": "stream",
     "text": [
      "\n",
      "OPI with m=231 completed in 2.2528848 seconds.\n",
      "Running optimistic policy iteration with m=241."
     ]
    },
    {
     "name": "stdout",
     "output_type": "stream",
     "text": [
      "\n",
      "OPI with m=241 completed in 2.3561879 seconds.\n",
      "Running optimistic policy iteration with m=251.\n"
     ]
    },
    {
     "name": "stdout",
     "output_type": "stream",
     "text": [
      "OPI with m=251 completed in 2.3236374 seconds.\n",
      "Running optimistic policy iteration with m=261."
     ]
    },
    {
     "name": "stdout",
     "output_type": "stream",
     "text": [
      "\n",
      "OPI with m=261 completed in 2.5147386 seconds.\n",
      "Running optimistic policy iteration with m=271."
     ]
    },
    {
     "name": "stdout",
     "output_type": "stream",
     "text": [
      "\n",
      "OPI with m=271 completed in 2.6679613 seconds.\n",
      "Running optimistic policy iteration with m=281."
     ]
    },
    {
     "name": "stdout",
     "output_type": "stream",
     "text": [
      "\n",
      "OPI with m=281 completed in 2.5934194 seconds.\n",
      "Running optimistic policy iteration with m=291.\n"
     ]
    },
    {
     "name": "stdout",
     "output_type": "stream",
     "text": [
      "OPI with m=291 completed in 2.8122918 seconds.\n",
      "Running optimistic policy iteration with m=301."
     ]
    },
    {
     "name": "stdout",
     "output_type": "stream",
     "text": [
      "\n",
      "OPI with m=301 completed in 2.8291741 seconds.\n",
      "Running optimistic policy iteration with m=311."
     ]
    },
    {
     "name": "stdout",
     "output_type": "stream",
     "text": [
      "\n",
      "OPI with m=311 completed in 2.9322082 seconds.\n",
      "Running optimistic policy iteration with m=321."
     ]
    },
    {
     "name": "stdout",
     "output_type": "stream",
     "text": [
      "\n",
      "OPI with m=321 completed in 2.8610899 seconds.\n",
      "Running optimistic policy iteration with m=331."
     ]
    },
    {
     "name": "stdout",
     "output_type": "stream",
     "text": [
      "\n",
      "OPI with m=331 completed in 2.9433558 seconds.\n",
      "Running optimistic policy iteration with m=341."
     ]
    },
    {
     "name": "stdout",
     "output_type": "stream",
     "text": [
      "\n",
      "OPI with m=341 completed in 2.9654093 seconds.\n",
      "Running optimistic policy iteration with m=351."
     ]
    },
    {
     "name": "stdout",
     "output_type": "stream",
     "text": [
      "\n",
      "OPI with m=351 completed in 3.0295712 seconds.\n",
      "Running optimistic policy iteration with m=361."
     ]
    },
    {
     "name": "stdout",
     "output_type": "stream",
     "text": [
      "\n",
      "OPI with m=361 completed in 3.1838724 seconds.\n",
      "Running optimistic policy iteration with m=371."
     ]
    },
    {
     "name": "stdout",
     "output_type": "stream",
     "text": [
      "\n",
      "OPI with m=371 completed in 3.3107458 seconds.\n",
      "Running optimistic policy iteration with m=381."
     ]
    },
    {
     "name": "stdout",
     "output_type": "stream",
     "text": [
      "\n",
      "OPI with m=381 completed in 3.2041423 seconds.\n",
      "Running optimistic policy iteration with m=391.\n"
     ]
    },
    {
     "name": "stdout",
     "output_type": "stream",
     "text": [
      "OPI with m=391 completed in 3.2914756 seconds.\n",
      "Running optimistic policy iteration with m=401.\n"
     ]
    },
    {
     "name": "stdout",
     "output_type": "stream",
     "text": [
      "OPI with m=401 completed in 3.4994738 seconds.\n",
      "Running optimistic policy iteration with m=411.\n"
     ]
    },
    {
     "name": "stdout",
     "output_type": "stream",
     "text": [
      "OPI with m=411 completed in 3.4911086 seconds.\n",
      "Running optimistic policy iteration with m=421."
     ]
    },
    {
     "name": "stdout",
     "output_type": "stream",
     "text": [
      "\n",
      "OPI with m=421 completed in 4.2091022 seconds.\n",
      "Running optimistic policy iteration with m=431."
     ]
    },
    {
     "name": "stdout",
     "output_type": "stream",
     "text": [
      "\n",
      "OPI with m=431 completed in 3.7833322 seconds.\n",
      "Running optimistic policy iteration with m=441."
     ]
    },
    {
     "name": "stdout",
     "output_type": "stream",
     "text": [
      "\n",
      "OPI with m=441 completed in 4.0589564 seconds.\n",
      "Running optimistic policy iteration with m=451."
     ]
    },
    {
     "name": "stdout",
     "output_type": "stream",
     "text": [
      "\n",
      "OPI with m=451 completed in 3.6854032 seconds.\n",
      "Running optimistic policy iteration with m=461."
     ]
    },
    {
     "name": "stdout",
     "output_type": "stream",
     "text": [
      "\n",
      "OPI with m=461 completed in 3.6795215 seconds.\n",
      "Running optimistic policy iteration with m=471."
     ]
    },
    {
     "name": "stdout",
     "output_type": "stream",
     "text": [
      "\n",
      "OPI with m=471 completed in 3.8246539 seconds.\n",
      "Running optimistic policy iteration with m=481."
     ]
    },
    {
     "name": "stdout",
     "output_type": "stream",
     "text": [
      "\n",
      "OPI with m=481 completed in 4.4167519 seconds.\n",
      "Running optimistic policy iteration with m=491."
     ]
    },
    {
     "name": "stdout",
     "output_type": "stream",
     "text": [
      "\n",
      "OPI with m=491 completed in 5.631539 seconds.\n",
      "Running optimistic policy iteration with m=501."
     ]
    },
    {
     "name": "stdout",
     "output_type": "stream",
     "text": [
      "\n",
      "OPI with m=501 completed in 4.5160787 seconds.\n",
      "Running optimistic policy iteration with m=511."
     ]
    },
    {
     "name": "stdout",
     "output_type": "stream",
     "text": [
      "\n",
      "OPI with m=511 completed in 4.0961933 seconds.\n",
      "Running optimistic policy iteration with m=521."
     ]
    },
    {
     "name": "stdout",
     "output_type": "stream",
     "text": [
      "\n",
      "OPI with m=521 completed in 4.1171335 seconds.\n",
      "Running optimistic policy iteration with m=531."
     ]
    },
    {
     "name": "stdout",
     "output_type": "stream",
     "text": [
      "\n",
      "OPI with m=531 completed in 4.8230901 seconds.\n",
      "Running optimistic policy iteration with m=541."
     ]
    },
    {
     "name": "stdout",
     "output_type": "stream",
     "text": [
      "\n",
      "OPI with m=541 completed in 4.6343286 seconds.\n",
      "Running optimistic policy iteration with m=551."
     ]
    },
    {
     "name": "stdout",
     "output_type": "stream",
     "text": [
      "\n",
      "OPI with m=551 completed in 4.379766 seconds.\n",
      "Running optimistic policy iteration with m=561."
     ]
    },
    {
     "name": "stdout",
     "output_type": "stream",
     "text": [
      "\n",
      "OPI with m=561 completed in 4.3479416 seconds.\n",
      "Running optimistic policy iteration with m=571.\n"
     ]
    },
    {
     "name": "stdout",
     "output_type": "stream",
     "text": [
      "OPI with m=571 completed in 4.4794405 seconds.\n",
      "Running optimistic policy iteration with m=581."
     ]
    },
    {
     "name": "stdout",
     "output_type": "stream",
     "text": [
      "\n",
      "OPI with m=581 completed in 4.7978606 seconds.\n",
      "Running optimistic policy iteration with m=591."
     ]
    },
    {
     "name": "stdout",
     "output_type": "stream",
     "text": [
      "\n",
      "OPI with m=591 completed in 4.5742132 seconds."
     ]
    },
    {
     "name": "stdout",
     "output_type": "stream",
     "text": [
      "\n"
     ]
    },
    {
     "ename": "LoadError",
     "evalue": "UndefVarError: `pi_time` not defined",
     "output_type": "error",
     "traceback": [
      "UndefVarError: `pi_time` not defined",
      "",
      "Stacktrace:",
      " [1] plot_timing(; m_vals::Vector{Int64}, savefig::Bool, figname::String)",
      "   @ Main .\\In[6]:226",
      " [2] top-level scope",
      "   @ In[6]:233"
     ]
    }
   ],
   "source": [
    "using QuantEcon, LinearAlgebra, IterTools\n",
    "include(\"s_approx.jl\")\n",
    "\n",
    "function create_investment_model(; \n",
    "        r=0.04,                              # Interest rate\n",
    "        a_0=10.0, a_1=1.0,                   # Demand parameters\n",
    "        γ=25.0, c=1.0,                       # Adjustment and unit cost \n",
    "        y_min=0.0, y_max=20.0, y_size=100,   # Grid for output\n",
    "        ρ=0.9, ν=1.0,                        # AR(1) parameters\n",
    "        z_size=25)                           # Grid size for shock\n",
    "    β = 1/(1+r) \n",
    "    y_grid = LinRange(y_min, y_max, y_size)  \n",
    "    mc = tauchen(y_size, ρ, ν)\n",
    "    z_grid, Q = mc.state_values, mc.p\n",
    "    return (; β, a_0, a_1, γ, c, y_grid, z_grid, Q)\n",
    "end\n",
    "\n",
    "\"\"\"\n",
    "The aggregator B is given by \n",
    "\n",
    "    B(y, z, y′) = r(y, z, y′) + β Σ_z′ v(y′, z′) Q(z, z′).\"\n",
    "\n",
    "where \n",
    "\n",
    "    r(y, z, y′) := (a_0 - a_1 * y + z - c) y - γ * (y′ - y)^2\n",
    "\n",
    "\"\"\"\n",
    "function B(i, j, k, v, model)\n",
    "    (; β, a_0, a_1, γ, c, y_grid, z_grid, Q) = model\n",
    "    y, z, y′ = y_grid[i], z_grid[j], y_grid[k]\n",
    "    r = (a_0 - a_1 * y + z - c) * y - γ * (y′ - y)^2\n",
    "    return @views r + β * dot(v[k, :], Q[j, :]) \n",
    "end\n",
    "\n",
    "\"The policy operator.\"\n",
    "function T_σ(v, σ, model)\n",
    "    y_idx, z_idx = (eachindex(g) for g in (model.y_grid, model.z_grid))\n",
    "    v_new = similar(v)\n",
    "    for (i, j) in product(y_idx, z_idx)\n",
    "        v_new[i, j] = B(i, j, σ[i, j], v, model) \n",
    "    end\n",
    "    return v_new\n",
    "end\n",
    "\n",
    "\"The Bellman operator.\"\n",
    "function T(v, model)\n",
    "    y_idx, z_idx = (eachindex(g) for g in (model.y_grid, model.z_grid))\n",
    "    v_new = similar(v)\n",
    "    for (i, j) in product(y_idx, z_idx)\n",
    "        v_new[i, j] = maximum(B(i, j, k, v, model) for k in y_idx)\n",
    "    end\n",
    "    return v_new\n",
    "end\n",
    "\n",
    "\"Compute a v-greedy policy.\"\n",
    "function get_greedy(v, model)\n",
    "    y_idx, z_idx = (eachindex(g) for g in (model.y_grid, model.z_grid))\n",
    "    σ = Matrix{Int32}(undef, length(y_idx), length(z_idx))\n",
    "    for (i, j) in product(y_idx, z_idx)\n",
    "        _, σ[i, j] = findmax(B(i, j, k, v, model) for k in y_idx)\n",
    "    end\n",
    "    return σ\n",
    "end\n",
    "\n",
    "\"Value function iteration routine.\"\n",
    "function value_iteration(model; tol=1e-5)\n",
    "    vz = zeros(length(model.y_grid), length(model.z_grid))\n",
    "    v_star = successive_approx(v -> T(v, model), vz, tolerance=tol)\n",
    "    return get_greedy(v_star, model)\n",
    "end\n",
    "\n",
    "\n",
    "\n",
    "\"Get the value v_σ of policy σ.\"\n",
    "function get_value(σ, model)\n",
    "    # Unpack and set up\n",
    "    (; β, a_0, a_1, γ, c, y_grid, z_grid, Q) = model\n",
    "    yn, zn = length(y_grid), length(z_grid)\n",
    "    n = yn * zn\n",
    "    # Function to extract (i, j) from m = i + (j-1)*yn\"\n",
    "    single_to_multi(m) = (m-1)%yn + 1, div(m-1, yn) + 1\n",
    "    # Allocate and create single index versions of P_σ and r_σ\n",
    "    P_σ = zeros(n, n)\n",
    "    r_σ = zeros(n)\n",
    "    for m in 1:n\n",
    "        i, j = single_to_multi(m)\n",
    "        y, z, y′ = y_grid[i], z_grid[j], y_grid[σ[i, j]]\n",
    "        r_σ[m] = (a_0 - a_1 * y + z - c) * y - γ * (y′ - y)^2\n",
    "        for m′ in 1:n\n",
    "            i′, j′ = single_to_multi(m′)\n",
    "            if i′ == σ[i, j]\n",
    "                P_σ[m, m′] = Q[j, j′]\n",
    "            end\n",
    "        end\n",
    "    end\n",
    "    # Solve for the value of σ \n",
    "    v_σ = (I - β * P_σ) \\ r_σ\n",
    "    # Return as multi-index array\n",
    "    return reshape(v_σ, yn, zn)\n",
    "end\n",
    "\n",
    "\n",
    "\"Howard policy iteration routine.\"\n",
    "function policy_iteration(model)\n",
    "    yn, zn = length(model.y_grid), length(model.z_grid)\n",
    "    σ = ones(Int32, yn, zn)\n",
    "    i, error = 0, 1.0\n",
    "    while error > 0\n",
    "        v_σ = get_value(σ, model)\n",
    "        σ_new = get_greedy(v_σ, model)\n",
    "        error = maximum(abs.(σ_new - σ))\n",
    "        σ = σ_new\n",
    "        i = i + 1\n",
    "        println(\"Concluded loop $i with error $error.\")\n",
    "    end\n",
    "    return σ\n",
    "end\n",
    "\n",
    "\"Optimistic policy iteration routine.\"\n",
    "function optimistic_policy_iteration(model; tol=1e-5, m=100)\n",
    "    v = zeros(length(model.y_grid), length(model.z_grid))\n",
    "    error = tol + 1\n",
    "    while error > tol\n",
    "        last_v = v\n",
    "        σ = get_greedy(v, model)\n",
    "        for i in 1:m\n",
    "            v = T_σ(v, σ, model)\n",
    "        end\n",
    "        error = maximum(abs.(v - last_v))\n",
    "    end\n",
    "    return get_greedy(v, model)\n",
    "end\n",
    "\n",
    "\n",
    "# Plots\n",
    "\n",
    "using PyPlot\n",
    "using LaTeXStrings\n",
    "PyPlot.matplotlib[:rc](\"text\", usetex=true) # allow tex rendering\n",
    "fontsize=12\n",
    "\n",
    "function plot_policy()\n",
    "    model = create_investment_model()\n",
    "    (; β, a_0, a_1, γ, c, y_grid, z_grid, Q) = model\n",
    "    σ_star = optimistic_policy_iteration(model)\n",
    "    fig, ax = plt.subplots(figsize=(9, 5.2))\n",
    "    ax.plot(y_grid, y_grid, \"k--\", label=L\"45\")\n",
    "    ax.plot(y_grid, y_grid[σ_star[:, 1]], label=L\"\\sigma^*(\\cdot, z_1)\")\n",
    "    ax.plot(y_grid, y_grid[σ_star[:, end]], label=L\"\\sigma^*(\\cdot, z_N)\")\n",
    "    ax.legend(fontsize=fontsize)\n",
    "    plt.show()\n",
    "end\n",
    "\n",
    "function plot_sim(; savefig=false, figname=\"../figures/finite_lq_1.pdf\")\n",
    "    ts_length = 200\n",
    "\n",
    "    fig, axes = plt.subplots(4, 1, figsize=(9, 11.2))\n",
    "\n",
    "    for (ax, γ) in zip(axes, (1, 10, 20, 30))\n",
    "        model = create_investment_model(γ=γ)\n",
    "        (; β, a_0, a_1, γ, c, y_grid, z_grid, Q) = model\n",
    "        σ_star = optimistic_policy_iteration(model)\n",
    "        mc = MarkovChain(Q, z_grid)\n",
    "\n",
    "        z_sim_idx = simulate_indices(mc, ts_length)\n",
    "        z_sim = z_grid[z_sim_idx]\n",
    "        y_sim_idx = Vector{Int32}(undef, ts_length)\n",
    "        y_1 = (a_0 - c + z_sim[1]) / (2 * a_1)\n",
    "        y_sim_idx[1] = searchsortedfirst(y_grid, y_1)\n",
    "        for t in 1:(ts_length-1)\n",
    "            y_sim_idx[t+1] = σ_star[y_sim_idx[t], z_sim_idx[t]]\n",
    "        end\n",
    "        y_sim = y_grid[y_sim_idx]\n",
    "        y_bar_sim = (a_0 .- c .+ z_sim) ./ (2 * a_1)\n",
    "\n",
    "        ax.plot(1:ts_length, y_sim, label=L\"Y_t\")\n",
    "        ax.plot(1:ts_length, y_bar_sim, label=L\"\\bar Y_t\")\n",
    "        ax.legend(fontsize=fontsize, frameon=false, loc=\"upper right\")\n",
    "        ax.set_ylabel(\"output\", fontsize=fontsize)\n",
    "        ax.set_ylim(1, 9)\n",
    "        ax.set_title(L\"\\gamma = \" * \"$γ\", fontsize=fontsize)\n",
    "    end\n",
    "\n",
    "    fig.tight_layout()\n",
    "    plt.show()\n",
    "    if savefig\n",
    "        fig.savefig(figname)\n",
    "    end\n",
    "end\n",
    "\n",
    "\n",
    "function plot_timing(; m_vals=collect(range(1, 600, step=10)),\n",
    "                   savefig=false,\n",
    "                   figname=\"../figures/finite_lq_time.pdf\"\n",
    "    )\n",
    "    model = create_investment_model()\n",
    "    #println(\"Running Howard policy iteration.\")\n",
    "    #pi_time = @elapsed σ_pi = policy_iteration(model)\n",
    "    #println(\"PI completed in $pi_time seconds.\")\n",
    "    println(\"Running value function iteration.\")\n",
    "    vfi_time = @elapsed σ_vfi = value_iteration(model, tol=1e-5)\n",
    "    println(\"VFI completed in $vfi_time seconds.\")\n",
    "    #@assert σ_vfi == σ_pi \"Warning: policies deviated.\"\n",
    "    opi_times = []\n",
    "    for m in m_vals\n",
    "        println(\"Running optimistic policy iteration with m=$m.\")\n",
    "        opi_time = @elapsed σ_opi = \n",
    "            optimistic_policy_iteration(model, m=m, tol=1e-5)\n",
    "        println(\"OPI with m=$m completed in $opi_time seconds.\")\n",
    "        #@assert σ_opi == σ_pi \"Warning: policies deviated.\"\n",
    "        push!(opi_times, opi_time)\n",
    "    end\n",
    "    fig, ax = plt.subplots(figsize=(9, 5.2))\n",
    "    #ax.plot(m_vals, fill(pi_time, length(m_vals)), \n",
    "    #        lw=2, label=\"Howard policy iteration\")\n",
    "    ax.plot(m_vals, fill(vfi_time, length(m_vals)), \n",
    "            lw=2, label=\"value function iteration\")\n",
    "    ax.plot(m_vals, opi_times, lw=2, label=\"optimistic policy iteration\")\n",
    "    ax.legend(fontsize=fontsize, frameon=false)\n",
    "    ax.set_xlabel(L\"m\", fontsize=fontsize)\n",
    "    ax.set_ylabel(\"time\", fontsize=fontsize)\n",
    "    plt.show()\n",
    "    if savefig\n",
    "        fig.savefig(figname)\n",
    "    end\n",
    "    return (pi_time, vfi_time, opi_times)\n",
    "end\n",
    "\n",
    "plot_policy()\n",
    "\n",
    "plot_sim(savefig=true)\n",
    "\n",
    "plot_timing(savefig=true)"
   ]
  },
  {
   "cell_type": "markdown",
   "id": "23d184a8",
   "metadata": {},
   "source": [
    "#### firm_hiring.jl"
   ]
  },
  {
   "cell_type": "code",
   "execution_count": 7,
   "id": "0836d553",
   "metadata": {
    "tags": [
     "hide-input"
    ]
   },
   "outputs": [
    {
     "data": {
      "image/png": "[encoded data removed]",
      "text/plain": [
       "Figure(PyObject <Figure size 900x520 with 1 Axes>)"
      ]
     },
     "metadata": {},
     "output_type": "display_data"
    },
    {
     "data": {
      "image/png": "[encoded data removed]",
      "text/plain": [
       "Figure(PyObject <Figure size 900x520 with 1 Axes>)"
      ]
     },
     "metadata": {},
     "output_type": "display_data"
    },
    {
     "data": {
      "image/png": "[encoded data removed]",
      "text/plain": [
       "Figure(PyObject <Figure size 640x480 with 1 Axes>)"
      ]
     },
     "metadata": {},
     "output_type": "display_data"
    }
   ],
   "source": [
    "using QuantEcon, LinearAlgebra, IterTools\n",
    "\n",
    "function create_hiring_model(; \n",
    "        r=0.04,                              # Interest rate\n",
    "        κ=1.0,                               # Adjustment cost \n",
    "        α=0.4,                               # Production parameter\n",
    "        p=1.0, w=1.0,                        # Price and wage\n",
    "        l_min=0.0, l_max=30.0, l_size=100,   # Grid for labor\n",
    "        ρ=0.9, ν=0.4, b=1.0,                 # AR(1) parameters\n",
    "        z_size=100)                          # Grid size for shock\n",
    "    β = 1/(1+r) \n",
    "    l_grid = LinRange(l_min, l_max, l_size)  \n",
    "    mc = tauchen(z_size, ρ, ν, b, 6)\n",
    "    z_grid, Q = mc.state_values, mc.p\n",
    "    return (; β, κ, α, p, w, l_grid, z_grid, Q)\n",
    "end\n",
    "\n",
    "\"\"\"\n",
    "The aggregator B is given by \n",
    "\n",
    "    B(l, z, l′) = r(l, z, l′) + β Σ_z′ v(l′, z′) Q(z, z′).\"\n",
    "\n",
    "where \n",
    "\n",
    "    r(l, z, l′) := p * z * f(l) - w * l - κ 1{l != l′}\n",
    "\n",
    "\"\"\"\n",
    "function B(i, j, k, v, model)\n",
    "    (; β, κ, α, p, w, l_grid, z_grid, Q) = model\n",
    "    l, z, l′ = l_grid[i], z_grid[j], l_grid[k]\n",
    "    r = p * z * l^α - w * l - κ * (l != l′)\n",
    "    return @views r + β * dot(v[k, :], Q[j, :]) \n",
    "end\n",
    "\n",
    "\n",
    "\"The policy operator.\"\n",
    "function T_σ(v, σ, model)\n",
    "    l_idx, z_idx = (eachindex(g) for g in (model.l_grid, model.z_grid))\n",
    "    v_new = similar(v)\n",
    "    for (i, j) in product(l_idx, z_idx)\n",
    "        v_new[i, j] = B(i, j, σ[i, j], v, model) \n",
    "    end\n",
    "    return v_new\n",
    "end\n",
    "\n",
    "\"Compute a v-greedy policy.\"\n",
    "function get_greedy(v, model)\n",
    "    (; β, κ, α, p, w, l_grid, z_grid, Q) = model\n",
    "    l_idx, z_idx = (eachindex(g) for g in (model.l_grid, model.z_grid))\n",
    "    σ = Matrix{Int32}(undef, length(l_idx), length(z_idx))\n",
    "    for (i, j) in product(l_idx, z_idx)\n",
    "        _, σ[i, j] = findmax(B(i, j, k, v, model) for k in l_idx)\n",
    "    end\n",
    "    return σ\n",
    "end\n",
    "\n",
    "\"Optimistic policy iteration routine.\"\n",
    "function optimistic_policy_iteration(model; tolerance=1e-5, m=100)\n",
    "    v = zeros(length(model.l_grid), length(model.z_grid))\n",
    "    error = tolerance + 1\n",
    "    while error > tolerance\n",
    "        last_v = v\n",
    "        σ = get_greedy(v, model)\n",
    "        for i in 1:m\n",
    "            v = T_σ(v, σ, model)\n",
    "        end\n",
    "        error = maximum(abs.(v - last_v))\n",
    "    end\n",
    "    return get_greedy(v, model)\n",
    "end\n",
    "\n",
    "\n",
    "# Plots\n",
    "\n",
    "using PyPlot\n",
    "using LaTeXStrings\n",
    "PyPlot.matplotlib[:rc](\"text\", usetex=true) # allow tex rendering\n",
    "fontsize=14\n",
    "\n",
    "function plot_policy(; savefig=false, \n",
    "                    figname=\"../figures/firm_hiring_pol.pdf\")\n",
    "    model = create_hiring_model()\n",
    "    (; β, κ, α, p, w, l_grid, z_grid, Q) = model\n",
    "    σ_star = optimistic_policy_iteration(model)\n",
    "    fig, ax = plt.subplots(figsize=(9, 5.2))\n",
    "    ax.plot(l_grid, l_grid, \"k--\", label=L\"45\")\n",
    "    ax.plot(l_grid, l_grid[σ_star[:, 1]], label=L\"\\sigma^*(\\cdot, z_1)\")\n",
    "    ax.plot(l_grid, l_grid[σ_star[:, end]], label=L\"\\sigma^*(\\cdot, z_N)\")\n",
    "    ax.legend(fontsize=fontsize)\n",
    "    plt.show()\n",
    "end\n",
    "\n",
    "\n",
    "function sim_dynamics(model, ts_length)\n",
    "\n",
    "    (; β, κ, α, p, w, l_grid, z_grid, Q) = model\n",
    "    σ_star = optimistic_policy_iteration(model)\n",
    "    mc = MarkovChain(Q, z_grid)\n",
    "    z_sim_idx = simulate_indices(mc, ts_length)\n",
    "    z_sim = z_grid[z_sim_idx]\n",
    "    l_sim_idx = Vector{Int32}(undef, ts_length)\n",
    "    l_sim_idx[1] = 32\n",
    "    for t in 1:(ts_length-1)\n",
    "        l_sim_idx[t+1] = σ_star[l_sim_idx[t], z_sim_idx[t]]\n",
    "    end\n",
    "    l_sim = l_grid[l_sim_idx]\n",
    "\n",
    "    y_sim = similar(l_sim)\n",
    "    for (i, l) in enumerate(l_sim)\n",
    "        y_sim[i] = p * z_sim[i] * l_sim[i]^α\n",
    "    end\n",
    "\n",
    "    t = ts_length - 1\n",
    "    l_g, y_g, z_g = zeros(t), zeros(t), zeros(t)\n",
    "\n",
    "    for i in 1:t\n",
    "        l_g[i] = (l_sim[i+1] - l_sim[i]) / l_sim[i]\n",
    "        y_g[i] = (y_sim[i+1] - y_sim[i]) / y_sim[i]\n",
    "        z_g[i] = (z_sim[i+1] - z_sim[i]) / z_sim[i]\n",
    "    end\n",
    "\n",
    "    return l_sim, y_sim, z_sim, l_g, y_g, z_g\n",
    "\n",
    "end\n",
    "\n",
    "\n",
    "\n",
    "function plot_sim(; savefig=false, \n",
    "                    figname=\"../figures/firm_hiring_ts.pdf\",\n",
    "                    ts_length = 250)\n",
    "\n",
    "    model = create_hiring_model()\n",
    "    (; β, κ, α, p, w, l_grid, z_grid, Q) = model\n",
    "    l_sim, y_sim, z_sim, l_g, y_g, z_g = sim_dynamics(model, ts_length)\n",
    "    fig, ax = plt.subplots(figsize=(9, 5.2))\n",
    "    ax.plot(1:ts_length, l_sim, label=L\"\\ell_t\")\n",
    "    ax.plot(1:ts_length, z_sim, alpha=0.6, label=L\"Z_t\")\n",
    "    ax.legend(fontsize=fontsize, frameon=false)\n",
    "    ax.set_ylabel(\"employment\", fontsize=fontsize)\n",
    "    ax.set_xlabel(\"time\", fontsize=fontsize)\n",
    "\n",
    "    plt.show()\n",
    "    if savefig\n",
    "        fig.savefig(figname)\n",
    "    end\n",
    "end\n",
    "\n",
    "\n",
    "function plot_growth(; savefig=false, \n",
    "                    figname=\"../figures/firm_hiring_g.pdf\",\n",
    "                    ts_length = 10_000_000)\n",
    "\n",
    "    model = create_hiring_model()\n",
    "    (; β, κ, α, p, w, l_grid, z_grid, Q) = model\n",
    "    l_sim, y_sim, z_sim, l_g, y_g, z_g = sim_dynamics(model, ts_length)\n",
    "\n",
    "    fig, ax = plt.subplots()\n",
    "    ax.hist(l_g, alpha=0.6, bins=100)\n",
    "    ax.set_xlabel(\"growth\", fontsize=fontsize)\n",
    "\n",
    "    #fig, axes = plt.subplots(2, 1)\n",
    "    #series = y_g, z_g\n",
    "    #for (ax, g) in zip(axes, series)\n",
    "    #    ax.hist(g, alpha=0.6, bins=100)\n",
    "    #    ax.set_xlabel(\"growth\", fontsize=fontsize)\n",
    "    #end\n",
    "\n",
    "    plt.tight_layout()\n",
    "    plt.show()\n",
    "    if savefig\n",
    "        fig.savefig(figname)\n",
    "    end\n",
    "end\n",
    "\n",
    "plot_policy()\n",
    "\n",
    "plot_sim(savefig=true)\n",
    "\n",
    "plot_growth(savefig=true)"
   ]
  },
  {
   "cell_type": "markdown",
   "id": "8d53709b",
   "metadata": {},
   "source": [
    "#### modified_opt_savings.jl"
   ]
  },
  {
   "cell_type": "code",
   "execution_count": 8,
   "id": "16a24e40",
   "metadata": {
    "tags": [
     "hide-input"
    ]
   },
   "outputs": [
    {
     "name": "stdout",
     "output_type": "stream",
     "text": [
      "OPI current error = 38.399920491529734\n",
      "OPI current error = 4.066951180848044\n"
     ]
    },
    {
     "name": "stdout",
     "output_type": "stream",
     "text": [
      "OPI current error = 4.6380954261438845\n",
      "OPI current error = 1.3260813588221083\n"
     ]
    },
    {
     "name": "stdout",
     "output_type": "stream",
     "text": [
      "OPI current error = 0.38722029225052523\n",
      "OPI current error = 0.09428546775951219\n"
     ]
    },
    {
     "name": "stdout",
     "output_type": "stream",
     "text": [
      "OPI current error = 0.02026455329022525\n",
      "OPI current error = 0.002633073607984926\n"
     ]
    },
    {
     "name": "stdout",
     "output_type": "stream",
     "text": [
      "OPI current error = 0.00013614255682270482\n",
      "OPI current error = 7.911990667963664e-6"
     ]
    },
    {
     "name": "stdout",
     "output_type": "stream",
     "text": [
      "\n",
      "OPI current error = 37.35040200118496"
     ]
    },
    {
     "name": "stdout",
     "output_type": "stream",
     "text": [
      "\n",
      "OPI current error = 4.066625094726078"
     ]
    },
    {
     "name": "stdout",
     "output_type": "stream",
     "text": [
      "\n",
      "OPI current error = 3.892585870289693"
     ]
    },
    {
     "name": "stdout",
     "output_type": "stream",
     "text": [
      "\n",
      "OPI current error = 1.1681955052615045\n"
     ]
    },
    {
     "name": "stdout",
     "output_type": "stream",
     "text": [
      "OPI current error = 0.3343174765677297"
     ]
    },
    {
     "name": "stdout",
     "output_type": "stream",
     "text": [
      "\n",
      "OPI current error = 0.06611271436991473"
     ]
    },
    {
     "name": "stdout",
     "output_type": "stream",
     "text": [
      "\n",
      "OPI current error = 0.010680300539267051"
     ]
    },
    {
     "name": "stdout",
     "output_type": "stream",
     "text": [
      "\n",
      "OPI current error = 0.0009714030350238545"
     ]
    },
    {
     "name": "stdout",
     "output_type": "stream",
     "text": [
      "\n",
      "OPI current error = 7.058042499252792e-5"
     ]
    },
    {
     "name": "stdout",
     "output_type": "stream",
     "text": [
      "\n",
      "OPI current error = 7.91199024874345e-6"
     ]
    },
    {
     "name": "stdout",
     "output_type": "stream",
     "text": [
      "\n",
      "OPI current error = 37.35040200118496"
     ]
    },
    {
     "name": "stdout",
     "output_type": "stream",
     "text": [
      "\n",
      "OPI current error = 4.066625094726078\n"
     ]
    },
    {
     "name": "stdout",
     "output_type": "stream",
     "text": [
      "OPI current error = 3.892585870289693"
     ]
    },
    {
     "name": "stdout",
     "output_type": "stream",
     "text": [
      "\n",
      "OPI current error = 1.1681955052615045"
     ]
    },
    {
     "name": "stdout",
     "output_type": "stream",
     "text": [
      "\n",
      "OPI current error = 0.3343174765677297"
     ]
    },
    {
     "name": "stdout",
     "output_type": "stream",
     "text": [
      "\n",
      "OPI current error = 0.06611271436991473"
     ]
    },
    {
     "name": "stdout",
     "output_type": "stream",
     "text": [
      "\n",
      "OPI current error = 0.010680300539267051"
     ]
    },
    {
     "name": "stdout",
     "output_type": "stream",
     "text": [
      "\n",
      "OPI current error = 0.0009714030350238545"
     ]
    },
    {
     "name": "stdout",
     "output_type": "stream",
     "text": [
      "\n",
      "OPI current error = 7.058042499252792e-5\n"
     ]
    },
    {
     "name": "stdout",
     "output_type": "stream",
     "text": [
      "OPI current error = 7.91199024874345e-6"
     ]
    },
    {
     "name": "stdout",
     "output_type": "stream",
     "text": [
      "\n",
      "OPI current error = 37.35040200118496"
     ]
    },
    {
     "name": "stdout",
     "output_type": "stream",
     "text": [
      "\n",
      "OPI current error = 4.066625094726078"
     ]
    },
    {
     "name": "stdout",
     "output_type": "stream",
     "text": [
      "\n",
      "OPI current error = 3.892585870289693"
     ]
    },
    {
     "name": "stdout",
     "output_type": "stream",
     "text": [
      "\n",
      "OPI current error = 1.1681955052615045"
     ]
    },
    {
     "name": "stdout",
     "output_type": "stream",
     "text": [
      "\n",
      "OPI current error = 0.3343174765677297"
     ]
    },
    {
     "name": "stdout",
     "output_type": "stream",
     "text": [
      "\n",
      "OPI current error = 0.06611271436991473"
     ]
    },
    {
     "name": "stdout",
     "output_type": "stream",
     "text": [
      "\n",
      "OPI current error = 0.010680300539267051"
     ]
    },
    {
     "name": "stdout",
     "output_type": "stream",
     "text": [
      "\n",
      "OPI current error = 0.0009714030350238545"
     ]
    },
    {
     "name": "stdout",
     "output_type": "stream",
     "text": [
      "\n",
      "OPI current error = 7.058042499252792e-5"
     ]
    },
    {
     "name": "stdout",
     "output_type": "stream",
     "text": [
      "\n",
      "OPI current error = 7.91199024874345e-6"
     ]
    },
    {
     "name": "stdout",
     "output_type": "stream",
     "text": [
      "\n",
      "OPI current error = 37.35040200118496"
     ]
    },
    {
     "name": "stdout",
     "output_type": "stream",
     "text": [
      "\n",
      "OPI current error = 4.066625094726078"
     ]
    },
    {
     "name": "stdout",
     "output_type": "stream",
     "text": [
      "\n",
      "OPI current error = 3.892585870289693"
     ]
    },
    {
     "name": "stdout",
     "output_type": "stream",
     "text": [
      "\n",
      "OPI current error = 1.1681955052615045"
     ]
    },
    {
     "name": "stdout",
     "output_type": "stream",
     "text": [
      "\n",
      "OPI current error = 0.3343174765677297\n"
     ]
    },
    {
     "name": "stdout",
     "output_type": "stream",
     "text": [
      "OPI current error = 0.06611271436991473\n"
     ]
    },
    {
     "name": "stdout",
     "output_type": "stream",
     "text": [
      "OPI current error = 0.010680300539267051"
     ]
    },
    {
     "name": "stdout",
     "output_type": "stream",
     "text": [
      "\n",
      "OPI current error = 0.0009714030350238545"
     ]
    },
    {
     "name": "stdout",
     "output_type": "stream",
     "text": [
      "\n",
      "OPI current error = 7.058042499252792e-5\n"
     ]
    },
    {
     "name": "stdout",
     "output_type": "stream",
     "text": [
      "OPI current error = 7.91199024874345e-6"
     ]
    },
    {
     "name": "stdout",
     "output_type": "stream",
     "text": [
      "\n"
     ]
    },
    {
     "data": {
      "image/png": "[encoded data removed]",
      "text/plain": [
       "Figure(PyObject <Figure size 1000x800 with 4 Axes>)"
      ]
     },
     "metadata": {},
     "output_type": "display_data"
    },
    {
     "data": {
      "image/png": "[encoded data removed]",
      "text/plain": [
       "Figure(PyObject <Figure size 900x520 with 1 Axes>)"
      ]
     },
     "metadata": {},
     "output_type": "display_data"
    },
    {
     "data": {
      "image/png": "[encoded data removed]",
      "text/plain": [
       "Figure(PyObject <Figure size 900x520 with 1 Axes>)"
      ]
     },
     "metadata": {},
     "output_type": "display_data"
    },
    {
     "data": {
      "image/png": "[encoded data removed]",
      "text/plain": [
       "Figure(PyObject <Figure size 900x520 with 1 Axes>)"
      ]
     },
     "metadata": {},
     "output_type": "display_data"
    },
    {
     "data": {
      "image/png": "[encoded data removed]",
      "text/plain": [
       "Figure(PyObject <Figure size 900x520 with 1 Axes>)"
      ]
     },
     "metadata": {},
     "output_type": "display_data"
    }
   ],
   "source": [
    "using QuantEcon, LinearAlgebra, IterTools\n",
    "\n",
    "function create_savings_model(; β=0.98, γ=2.5,  \n",
    "                                w_min=0.01, w_max=20.0, w_size=100,\n",
    "                                ρ=0.9, ν=0.1, y_size=20,\n",
    "                                η_min=0.75, η_max=1.25, η_size=2)\n",
    "    η_grid = LinRange(η_min, η_max, η_size)  \n",
    "    ϕ = ones(η_size) * (1 / η_size)  # Uniform distributoin\n",
    "    w_grid = LinRange(w_min, w_max, w_size)  \n",
    "    mc = tauchen(y_size, ρ, ν)\n",
    "    y_grid, Q = exp.(mc.state_values), mc.p\n",
    "    return (; β, γ, η_grid, ϕ, w_grid, y_grid, Q)\n",
    "end\n",
    "\n",
    "\n",
    "\n",
    "## == Functions for regular OPI == ##\n",
    "\n",
    "\"\"\"\n",
    "B(w, y, η, w′) = u(w + y - w′/η)) + β Σ v(w′, y′, η′) Q(y, y′) ϕ(η′)\n",
    "\"\"\"\n",
    "function B(i, j, k, l, v, model)\n",
    "    (; β, γ, η_grid, ϕ, w_grid, y_grid, Q) = model\n",
    "    w, y, η, w′ = w_grid[i], y_grid[j], η_grid[k], w_grid[l]\n",
    "    u(c) = c^(1-γ)/(1-γ)\n",
    "    c = w + y - (w′/ η)\n",
    "    exp_value = 0.0\n",
    "    for m in eachindex(y_grid)\n",
    "        for n in eachindex(η_grid)\n",
    "            exp_value += v[l, m, n] * Q[j, m] * ϕ[n]\n",
    "        end\n",
    "    end\n",
    "    return c > 0 ? u(c) + β * exp_value : -Inf\n",
    "end\n",
    "\n",
    "\"The policy operator.\"\n",
    "function T_σ(v, σ, model)\n",
    "    (; β, γ, η_grid, ϕ, w_grid, y_grid, Q) = model\n",
    "    grids = w_grid, y_grid, η_grid\n",
    "    w_idx, y_idx, η_idx = (eachindex(g) for g in grids)\n",
    "    v_new = similar(v)\n",
    "    for (i, j, k) in product(w_idx, y_idx, η_idx)\n",
    "        v_new[i, j, k] = B(i, j, k, σ[i, j, k], v, model) \n",
    "    end\n",
    "    return v_new\n",
    "end\n",
    "\n",
    "\"Compute a v-greedy policy.\"\n",
    "function get_greedy(v, model)\n",
    "    (; β, γ, η_grid, ϕ, w_grid, y_grid, Q) = model\n",
    "    w_idx, y_idx, η_idx = (eachindex(g) for g in (w_grid, y_grid, η_grid))\n",
    "    σ = Array{Int32}(undef, length(w_idx), length(y_idx), length(η_idx))\n",
    "    for (i, j, k) in product(w_idx, y_idx, η_idx)\n",
    "        _, σ[i, j, k] = findmax(B(i, j, k, l, v, model) for l in w_idx)\n",
    "    end\n",
    "    return σ\n",
    "end\n",
    "\n",
    "\n",
    "\"Optimistic policy iteration routine.\"\n",
    "function optimistic_policy_iteration(model; tolerance=1e-5, m=100)\n",
    "    (; β, γ, η_grid, ϕ, w_grid, y_grid, Q) = model\n",
    "    v = zeros(length(w_grid), length(y_grid), length(η_grid))\n",
    "    error = tolerance + 1\n",
    "    while error > tolerance\n",
    "        last_v = v\n",
    "        σ = get_greedy(v, model)\n",
    "        for i in 1:m\n",
    "            v = T_σ(v, σ, model)\n",
    "        end\n",
    "        error = maximum(abs.(v - last_v))\n",
    "        println(\"OPI current error = $error\")\n",
    "    end\n",
    "    return get_greedy(v, model)\n",
    "end\n",
    "\n",
    "\n",
    "## == Functions for modified OPI == ##\n",
    "\n",
    "\"D(w, y, η, w′, g) = u(w + y - w′/η) + β g(y, w′).\"\n",
    "@inline function D(i, j, k, l, g, model)\n",
    "    (; β, γ, η_grid, ϕ, w_grid, y_grid, Q) = model\n",
    "    w, y, η, w′ = w_grid[i], y_grid[j], η_grid[k], w_grid[l]\n",
    "    u(c) = c^(1-γ)/(1-γ)\n",
    "    c = w + y - (w′/η)\n",
    "    return c > 0 ? u(c) + β * g[j, l] : -Inf\n",
    "end\n",
    "\n",
    "\n",
    "\"Compute a g-greedy policy.\"\n",
    "function get_g_greedy(g, model)\n",
    "    (; β, γ, η_grid, ϕ, w_grid, y_grid, Q) = model\n",
    "    w_idx, y_idx, η_idx = (eachindex(g) for g in (w_grid, y_grid, η_grid))\n",
    "    σ = Array{Int32}(undef, length(w_idx), length(y_idx), length(η_idx))\n",
    "    for (i, j, k) in product(w_idx, y_idx, η_idx)\n",
    "        _, σ[i, j, k] = findmax(D(i, j, k, l, g, model) for l in w_idx)\n",
    "    end\n",
    "    return σ\n",
    "end\n",
    "\n",
    "\n",
    "\"The modified policy operator.\"\n",
    "function R_σ(g, σ, model)\n",
    "    (; β, γ, η_grid, ϕ, w_grid, y_grid, Q) = model\n",
    "    w_idx, y_idx, η_idx = (eachindex(g) for g in (w_grid, y_grid, η_grid))\n",
    "    g_new = similar(g)\n",
    "    for (j, i′) in product(y_idx, w_idx)  # j indexes y, i′ indexes w′ \n",
    "        out = 0.0\n",
    "        for j′ in y_idx                   # j′ indexes y′\n",
    "            for k′ in η_idx               # k′ indexes η′\n",
    "                out += D(i′, j′, k′, σ[i′, j′, k′], g, model) * \n",
    "                        Q[j, j′] * ϕ[k′]\n",
    "            end\n",
    "        end\n",
    "        g_new[j, i′] = out\n",
    "    end\n",
    "    return g_new\n",
    "end\n",
    "\n",
    "\n",
    "\"Modified optimistic policy iteration routine.\"\n",
    "function mod_opi(model; tolerance=1e-5, m=100)\n",
    "    (; β, γ, η_grid, ϕ, w_grid, y_grid, Q) = model\n",
    "    g = zeros(length(y_grid), length(w_grid))\n",
    "    error = tolerance + 1\n",
    "    while error > tolerance\n",
    "        last_g = g\n",
    "        σ = get_g_greedy(g, model)\n",
    "        for i in 1:m\n",
    "            g = R_σ(g, σ, model)\n",
    "        end\n",
    "        error = maximum(abs.(g - last_g))\n",
    "        println(\"OPI current error = $error\")\n",
    "    end\n",
    "    return get_g_greedy(g, model)\n",
    "end\n",
    "\n",
    "\n",
    "# == Simulations and inequality measures == #\n",
    "\n",
    "function simulate_wealth(m)\n",
    "\n",
    "    model = create_savings_model()\n",
    "    (; β, γ, η_grid, ϕ, w_grid, y_grid, Q) = model\n",
    "    σ_star = mod_opi(model)\n",
    "\n",
    "    # Simulate labor income\n",
    "    mc = MarkovChain(Q)\n",
    "    y_idx_series = simulate(mc, m)\n",
    "\n",
    "    # IID Markov chain with uniform draws\n",
    "    l = length(η_grid)\n",
    "    mc = MarkovChain(ones(l, l) * (1/l))\n",
    "    η_idx_series = simulate(mc, m)\n",
    "\n",
    "    w_idx_series = similar(y_idx_series)\n",
    "    w_idx_series[1] = 1\n",
    "    for t in 1:(m-1)\n",
    "        i, j, k = w_idx_series[t], y_idx_series[t], η_idx_series[t]\n",
    "        w_idx_series[t+1] = σ_star[i, j, k]\n",
    "    end\n",
    "\n",
    "    w_series = w_grid[w_idx_series]\n",
    "    return w_series\n",
    "end\n",
    "\n",
    "\n",
    "function lorenz(v)  # assumed sorted vector\n",
    "    S = cumsum(v)  # cumulative sums: [v[1], v[1] + v[2], ... ]\n",
    "    F = (1:length(v)) / length(v)\n",
    "    L = S ./ S[end]\n",
    "    return (; F, L) # returns named tuple\n",
    "end\n",
    "\n",
    "\n",
    "gini(v) = (2 * sum(i * y for (i,y) in enumerate(v))/sum(v)\n",
    "           - (length(v) + 1))/length(v)\n",
    "\n",
    "\n",
    "# == Plots == #\n",
    "\n",
    "using PyPlot\n",
    "using LaTeXStrings\n",
    "PyPlot.matplotlib[:rc](\"text\", usetex=true) # allow tex rendering\n",
    "fontsize=16\n",
    "\n",
    "\n",
    "\n",
    "function plot_contours(; savefig=false, \n",
    "                         figname=\"../figures/modified_opt_savings_1.pdf\")\n",
    "\n",
    "    model = create_savings_model()\n",
    "    (; β, γ, η_grid, ϕ, w_grid, y_grid, Q) = model\n",
    "    σ_star = optimistic_policy_iteration(model)\n",
    "\n",
    "    fig, axes = plt.subplots(2, 1, figsize=(10, 8))\n",
    "    y_idx, η_idx = eachindex(y_grid), eachindex(η_grid)\n",
    "    H = zeros(length(y_grid), length(η_grid))\n",
    "\n",
    "    w_indices = (1, length(w_grid))\n",
    "    titles = \"low wealth\", \"high wealth\"\n",
    "    for (ax, w_idx, title) in zip(axes, w_indices, titles)\n",
    "\n",
    "        for (i_y, i_ϵ) in product(y_idx, η_idx)\n",
    "            w, y, η = w_grid[w_idx], y_grid[i_y], η_grid[i_ϵ]\n",
    "            H[i_y, i_ϵ] = w_grid[σ_star[w_idx, i_y, i_ϵ]] / (w+y)\n",
    "        end\n",
    "\n",
    "        cs1 = ax.contourf(y_grid, η_grid, transpose(H), alpha=0.5)\n",
    "        plt.colorbar(cs1, ax=ax) #, format=\"%.6f\")\n",
    "\n",
    "        ax.set_title(title, fontsize=fontsize)\n",
    "        ax.set_xlabel(L\"y\", fontsize=fontsize)\n",
    "        ax.set_ylabel(L\"\\varepsilon\", fontsize=fontsize)\n",
    "    end\n",
    "\n",
    "    plt.tight_layout()\n",
    "    if savefig\n",
    "        fig.savefig(figname)\n",
    "    end\n",
    "    plt.show()\n",
    "end\n",
    "\n",
    "\n",
    "function plot_policies(; savefig=false, \n",
    "                         figname=\"../figures/modified_opt_savings_2.pdf\")\n",
    "\n",
    "    model = create_savings_model()\n",
    "    (; β, γ, η_grid, ϕ, w_grid, y_grid, Q) = model\n",
    "    σ_star = mod_opi(model)\n",
    "    y_bar = floor(Int, length(y_grid) / 2)  # Index of mid-point of y_grid\n",
    "\n",
    "    fig, ax = plt.subplots(figsize=(9, 5.2))\n",
    "    ax.plot(w_grid, w_grid, \"k--\", label=L\"45\")\n",
    "\n",
    "    for (i, η) in enumerate(η_grid)\n",
    "        label = L\"\\sigma^*\" * \" at \" * L\"\\eta = \" * \"$η\"\n",
    "        ax.plot(w_grid, w_grid[σ_star[:, y_bar, i]], label=label)\n",
    "    end\n",
    "    ax.legend(fontsize=fontsize)\n",
    "    plt.show()\n",
    "\n",
    "    plt.tight_layout()\n",
    "    if savefig\n",
    "        fig.savefig(figname)\n",
    "    end\n",
    "    plt.show()\n",
    "end\n",
    "\n",
    "\n",
    "function plot_time_series(; m=2_000,\n",
    "                           savefig=false, \n",
    "                           figname=\"../figures/modified_opt_savings_ts.pdf\")\n",
    "\n",
    "    w_series = simulate_wealth(m)\n",
    "    fig, ax = plt.subplots(figsize=(9, 5.2))\n",
    "    ax.plot(w_series, label=L\"w_t\")\n",
    "    ax.legend(fontsize=fontsize)\n",
    "    ax.set_xlabel(\"time\", fontsize=fontsize)\n",
    "    plt.show()\n",
    "    if savefig\n",
    "        fig.savefig(figname)\n",
    "    end\n",
    "\n",
    "end\n",
    "\n",
    "function plot_histogram(; m=1_000_000,\n",
    "                           savefig=false, \n",
    "                           figname=\"../figures/modified_opt_savings_hist.pdf\")\n",
    "\n",
    "    w_series = simulate_wealth(m)\n",
    "    g = round(gini(sort(w_series)), digits=2)\n",
    "    fig, ax = plt.subplots(figsize=(9, 5.2))\n",
    "    ax.hist(w_series, bins=40, density=true)\n",
    "    ax.set_xlabel(\"wealth\", fontsize=fontsize)\n",
    "    ax.text(15, 0.7, \"Gini = $g\", fontsize=fontsize)\n",
    "    plt.show()\n",
    "    if savefig\n",
    "        fig.savefig(figname)\n",
    "    end\n",
    "\n",
    "end\n",
    "\n",
    "\n",
    "function plot_lorenz(; m=1_000_000,\n",
    "                           savefig=false, \n",
    "                           figname=\"../figures/modified_opt_savings_lorenz.pdf\")\n",
    "\n",
    "    w_series = simulate_wealth(m)\n",
    "    (; F, L) = lorenz(sort(w_series))\n",
    "\n",
    "    fig, ax = plt.subplots(figsize=(9, 5.2))\n",
    "    ax.plot(F, F, label=\"Lorenz curve, equality\")\n",
    "    ax.plot(F, L, label=\"Lorenz curve, wealth distribution\")\n",
    "    ax.legend()\n",
    "    plt.show()\n",
    "    if savefig\n",
    "        fig.savefig(figname)\n",
    "    end\n",
    "\n",
    "end\n",
    "\n",
    "plot_contours(savefig=true)\n",
    "\n",
    "plot_policies(savefig=true)\n",
    "\n",
    "plot_time_series(savefig=true)\n",
    "\n",
    "plot_histogram(savefig=true)\n",
    "\n",
    "plot_lorenz(savefig=true)\n"
   ]
  }
 ],
 "metadata": {
  "jupytext": {
   "text_representation": {
    "extension": ".md",
    "format_name": "myst"
   }
  },
  "kernelspec": {
   "display_name": "Julia",
   "language": "julia",
   "name": "julia-1.9"
  },
  "language_info": {
   "file_extension": ".jl",
   "mimetype": "application/julia",
   "name": "julia",
   "version": "1.9.1"
  },
  "source_map": [
   10,
   28,
   35,
   38,
   159,
   162,
   208,
   211,
   257,
   260,
   459,
   462,
   698,
   701,
   882,
   885
  ]
 },
 "nbformat": 4,
 "nbformat_minor": 5
}