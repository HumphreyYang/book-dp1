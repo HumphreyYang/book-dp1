{
 "cells": [
  {
   "cell_type": "code",
   "execution_count": 1,
   "id": "7d14a78a",
   "metadata": {
    "tags": [
     "hide-input"
    ]
   },
   "outputs": [],
   "source": [
    "from scipy.stats import rv_discrete\n",
    "\n",
    "\"Compute the τ-th quantile of v(X) when X ∼ ϕ and v = sort(v).\"\n",
    "def quantile(τ, v, ϕ):\n",
    "    for (i, v_value) in enumerate(v):\n",
    "        p = sum(ϕ[:i])  # sum all ϕ[j] s.t. v[j] ≤ v_value\n",
    "        if p >= τ:         # exit and return v_value if prob ≥ τ\n",
    "            return v_value\n",
    "\n",
    "\"For each i, compute the τ-th quantile of v(Y) when Y ∼ P(i, ⋅)\"\n",
    "def R(τ, v, P):\n",
    "    return [quantile(τ, v, P[i, :]) for i in range(len(v))]\n",
    "\n",
    "def quantile_test(τ):\n",
    "    ϕ = [0.1, 0.2, 0.7]\n",
    "    v = [10, 20, 30]\n",
    "\n",
    "    #d = DiscreteNonParametric(v, ϕ)\n",
    "    d = rv_discrete(values=(v, ϕ))\n",
    "    return quantile(τ, v, ϕ), d.ppf(τ)\n",
    "    \n",
    "\n"
   ]
  },
  {
   "cell_type": "code",
   "execution_count": 2,
   "id": "84341b51",
   "metadata": {
    "tags": [
     "hide-input"
    ]
   },
   "outputs": [],
   "source": [
    "\"\"\"\n",
    "Job search with Markov wage draws and quantile preferences.\n",
    "\n",
    "\"\"\"\n",
    "from quantecon import tauchen, MarkovChain\n",
    "import numpy as np\n",
    "from quantile_function import *\n",
    "\n",
    "\"Creates an instance of the job search model.\"\n",
    "def create_markov_js_model(\n",
    "        n=100,       # wage grid size\n",
    "        ρ=0.9,       # wage persistence\n",
    "        ν=0.2,       # wage volatility\n",
    "        β=0.98,      # discount factor\n",
    "        c=1.0,       # unemployment compensation\n",
    "        τ=0.5        # quantile parameter\n",
    "    ):\n",
    "    mc = tauchen(n, ρ, ν)\n",
    "    w_vals, P = np.exp(mc.state_values), mc.p\n",
    "    return (n, w_vals, P, β, c, τ)\n",
    "\n",
    "\"\"\"\n",
    "The policy operator \n",
    "\n",
    "    (T_σ v)(w) = σ(w) (w / (1-β)) + (1 - σ(w))(c + β (R_τ v)(w))\n",
    "\n",
    "\"\"\"\n",
    "def T_σ(v, σ, model):\n",
    "    n, w_vals, P, β, c, τ = model\n",
    "    h = [x + c for x in β * R(τ, v, P)]\n",
    "    e = w_vals / (1 - β)\n",
    "    return σ * e + (1 - σ) * h\n",
    "\n",
    "\" Get a v-greedy policy.\"\n",
    "def get_greedy(v, model):\n",
    "    n, w_vals, P, β, c, τ = model\n",
    "    σ = w_vals / (1 - β) >= c + β * R(τ, v, P)\n",
    "    return σ\n",
    "\n",
    "\n",
    "\"Optimistic policy iteration routine.\"\n",
    "def optimistic_policy_iteration(model, tolerance=1e-5, m=100):\n",
    "    n, w_vals, P, β, c, τ = model\n",
    "    v = np.ones(n)\n",
    "    error = tolerance + 1\n",
    "    while error > tolerance:\n",
    "        last_v = v\n",
    "        σ = get_greedy(v, model)\n",
    "        for i in range(m):\n",
    "            v = T_σ(v, σ, model)\n",
    "        \n",
    "        error = max(np.abs(v - last_v))\n",
    "        print(\"OPI current error = $error\")\n",
    "    \n",
    "    return v, get_greedy(v, model)\n",
    "\n",
    "\n",
    "# == Plots == #\n",
    "\n",
    "import matplotlib.pyplot as plt\n",
    "\n",
    "\n",
    "def plot_main(tau_vals=(0.1, 0.25, 0.5, 0.6, 0.7, 0.8), \n",
    "                     savefig=False, \n",
    "                     figname=\"../figures/quantile_js.pdf\"):\n",
    "\n",
    "    w_star_vals = np.zeros(len(tau_vals))\n",
    "\n",
    "    for (τ_idx, τ) in enumerate(tau_vals):\n",
    "        model = create_markov_js_model(τ=τ)\n",
    "        n, w_vals, P, β, c, τ = model\n",
    "        v_star, σ_star = optimistic_policy_iteration(model)\n",
    "        for i in range(n):\n",
    "            if σ_star[i] > 0:\n",
    "                w_star_vals[τ_idx] = w_vals[i]\n",
    "                break\n",
    "\n",
    "    model = create_markov_js_model()\n",
    "    n, w_vals, P, β, c, τ = model\n",
    "    mc = MarkovChain(model.P)\n",
    "    s = mc.stationary_distributions()[0]\n",
    "    #s = stationary_distributions(mc)[1]\n",
    "\n",
    "    fig, ax = plt.subplots()\n",
    "    ax.plot(tau_vals, w_star_vals, \"k--\", lw=2, alpha=0.7, label=\"reservation wage\")\n",
    "    ax.barh(w_vals, 32 * s, alpha=0.05, align=\"center\")\n",
    "    ax.legend(frameon=False, loc=\"upper center\")\n",
    "    ax.set_xlabel(\"quantile\")\n",
    "    ax.set_ylabel(\"wages\")\n",
    "\n",
    "    if savefig:\n",
    "        fig.savefig(figname)\n"
   ]
  },
  {
   "cell_type": "code",
   "execution_count": 3,
   "id": "4bb63f8c",
   "metadata": {},
   "outputs": [
    {
     "ename": "AttributeError",
     "evalue": "'MarkovChain' object has no attribute 'p'",
     "output_type": "error",
     "traceback": [
      "\u001b[1;31m---------------------------------------------------------------------------\u001b[0m",
      "\u001b[1;31mAttributeError\u001b[0m                            Traceback (most recent call last)",
      "Cell \u001b[1;32mIn[3], line 1\u001b[0m\n\u001b[1;32m----> 1\u001b[0m \u001b[43mplot_main\u001b[49m\u001b[43m(\u001b[49m\u001b[43msavefig\u001b[49m\u001b[38;5;241;43m=\u001b[39;49m\u001b[38;5;28;43;01mTrue\u001b[39;49;00m\u001b[43m)\u001b[49m\n",
      "Cell \u001b[1;32mIn[2], line 70\u001b[0m, in \u001b[0;36mplot_main\u001b[1;34m(tau_vals, savefig, figname)\u001b[0m\n\u001b[0;32m     67\u001b[0m w_star_vals \u001b[38;5;241m=\u001b[39m np\u001b[38;5;241m.\u001b[39mzeros(\u001b[38;5;28mlen\u001b[39m(tau_vals))\n\u001b[0;32m     69\u001b[0m \u001b[38;5;28;01mfor\u001b[39;00m (τ_idx, τ) \u001b[38;5;129;01min\u001b[39;00m \u001b[38;5;28menumerate\u001b[39m(tau_vals):\n\u001b[1;32m---> 70\u001b[0m     model \u001b[38;5;241m=\u001b[39m \u001b[43mcreate_markov_js_model\u001b[49m\u001b[43m(\u001b[49m\u001b[43mτ\u001b[49m\u001b[38;5;241;43m=\u001b[39;49m\u001b[43mτ\u001b[49m\u001b[43m)\u001b[49m\n\u001b[0;32m     71\u001b[0m     n, w_vals, P, β, c, τ \u001b[38;5;241m=\u001b[39m model\n\u001b[0;32m     72\u001b[0m     v_star, σ_star \u001b[38;5;241m=\u001b[39m optimistic_policy_iteration(model)\n",
      "Cell \u001b[1;32mIn[2], line 19\u001b[0m, in \u001b[0;36mcreate_markov_js_model\u001b[1;34m(n, ρ, ν, β, c, τ)\u001b[0m\n\u001b[0;32m     10\u001b[0m \u001b[38;5;28;01mdef\u001b[39;00m \u001b[38;5;21mcreate_markov_js_model\u001b[39m(\n\u001b[0;32m     11\u001b[0m         n\u001b[38;5;241m=\u001b[39m\u001b[38;5;241m100\u001b[39m,       \u001b[38;5;66;03m# wage grid size\u001b[39;00m\n\u001b[0;32m     12\u001b[0m         ρ\u001b[38;5;241m=\u001b[39m\u001b[38;5;241m0.9\u001b[39m,       \u001b[38;5;66;03m# wage persistence\u001b[39;00m\n\u001b[1;32m   (...)\u001b[0m\n\u001b[0;32m     16\u001b[0m         τ\u001b[38;5;241m=\u001b[39m\u001b[38;5;241m0.5\u001b[39m        \u001b[38;5;66;03m# quantile parameter\u001b[39;00m\n\u001b[0;32m     17\u001b[0m     ):\n\u001b[0;32m     18\u001b[0m     mc \u001b[38;5;241m=\u001b[39m tauchen(n, ρ, ν)\n\u001b[1;32m---> 19\u001b[0m     w_vals, P \u001b[38;5;241m=\u001b[39m np\u001b[38;5;241m.\u001b[39mexp(mc\u001b[38;5;241m.\u001b[39mstate_values), \u001b[43mmc\u001b[49m\u001b[38;5;241;43m.\u001b[39;49m\u001b[43mp\u001b[49m\n\u001b[0;32m     20\u001b[0m     \u001b[38;5;28;01mreturn\u001b[39;00m (n, w_vals, P, β, c, τ)\n",
      "\u001b[1;31mAttributeError\u001b[0m: 'MarkovChain' object has no attribute 'p'"
     ]
    }
   ],
   "source": [
    "plot_main(savefig=True)"
   ]
  }
 ],
 "metadata": {
  "jupytext": {
   "text_representation": {
    "extension": ".md",
    "format_name": "myst"
   }
  },
  "kernelspec": {
   "display_name": "Python 3",
   "language": "python",
   "name": "python3"
  },
  "language_info": {
   "codemirror_mode": {
    "name": "ipython",
    "version": 3
   },
   "file_extension": ".py",
   "mimetype": "text/x-python",
   "name": "python",
   "nbconvert_exporter": "python",
   "pygments_lexer": "ipython3",
   "version": "3.11.4"
  },
  "source_map": [
   10,
   30,
   56,
   58,
   156
  ]
 },
 "nbformat": 4,
 "nbformat_minor": 5
}