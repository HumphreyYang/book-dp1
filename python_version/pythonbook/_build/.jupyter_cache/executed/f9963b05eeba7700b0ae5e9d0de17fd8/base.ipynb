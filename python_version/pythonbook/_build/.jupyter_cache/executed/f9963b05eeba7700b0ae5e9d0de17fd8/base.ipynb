{
 "cells": [
  {
   "cell_type": "code",
   "execution_count": 1,
   "id": "d62607c3",
   "metadata": {
    "tags": [
     "hide-input"
    ]
   },
   "outputs": [
    {
     "name": "stdout",
     "output_type": "stream",
     "text": [
      "[[ True]\n",
      " [ True]]\n"
     ]
    }
   ],
   "source": [
    "import numpy as np\n",
    "from math import isclose\n",
    "\n",
    "α, λ, d, b = 0.01, 0.1, 0.02, 0.025\n",
    "g = b - d\n",
    "A = np.mat(np.array([[(1 - d) * (1 - λ) + b, (1 - d) * α + b], \n",
    "     [(1 - d) * λ, (1 - d) * (1 - α)]]))\n",
    "\n",
    "ū = (1 + g - (1 - d) * (1 - α)) /  (1 + g - (1 - d) * (1 - α) + (1 - d) * λ)\n",
    "\n",
    "ē = 1 - ū\n",
    "x̄ = np.array([[ū], [ē]])\n",
    "\n",
    "print(np.isclose(A * x̄, (1 + g) * x̄))   # prints true\n",
    "\n",
    "# == Plots == #\n",
    "\n",
    "import matplotlib.pyplot as plt\n",
    "\n",
    "def plot_paths(figname=\"../figures/lake_1.pdf\", savefig=False):\n",
    "\n",
    "    path_length = 100\n",
    "    x_path_1 = np.zeros((2, path_length))\n",
    "    x_path_2 = np.zeros((2, path_length))\n",
    "    x_0_1 = 5.0, 0.1\n",
    "    x_0_2 = 0.1, 4.0\n",
    "    x_path_1[0, 0] = x_0_1[0]\n",
    "    x_path_1[1, 0] = x_0_1[1]\n",
    "    x_path_2[0, 0] = x_0_2[0]\n",
    "    x_path_2[1, 0] = x_0_2[1]\n",
    "\n",
    "\n",
    "    for t in range(path_length-1):\n",
    "        x_path_1[:, t+1] = A * x_path_1[:, t]\n",
    "        x_path_2[:, t+1] = A * x_path_2[:, t]\n",
    "    \n",
    "\n",
    "    fig, ax = plt.subplots()\n",
    "\n",
    "    # Set the axes through the origin\n",
    "    for spine in [\"left\", \"bottom\"]:\n",
    "        ax.spines[spine].set_position(\"zero\")\n",
    "    for spine in [\"right\", \"top\"]:\n",
    "        ax.spines[spine].set_color(\"none\")\n",
    "    \n",
    "    ax.set_xlim(0, 6)\n",
    "    ax.set_ylim(0, 6)\n",
    "    ax.set_xlabel(\"unemployed workforce\")\n",
    "    ax.set_ylabel(\"employed workforce\")\n",
    "    ax.set_xticks((0, 6))\n",
    "    ax.set_yticks((0, 6))\n",
    "    s = 10\n",
    "    ax.plot([0, s * ū], [0, s * ē], \"k--\", lw=1)\n",
    "    ax.scatter(x_path_1[1, :], x_path_1[2, :], s=4, c=\"blue\")\n",
    "    ax.scatter(x_path_2[1, :], x_path_2[2, :], s=4, c=\"green\")\n",
    "\n",
    "    ax.plot([ū], [ē], \"ko\", ms=4, alpha=0.6)\n",
    "    ax.annotate(r\"\\bar x\", \n",
    "             xy=(ū, ē),\n",
    "             xycoords=\"data\",\n",
    "             xytext=(20, -20),\n",
    "             textcoords=\"offset points\",\n",
    "             arrowprops={\"arrowstyle\" : \"->\"})\n",
    "\n",
    "    x, y = x_0_1[0], x_0_1[1]\n",
    "    lb = r\"\\$x_0 = ($(x), $(y))\\$\"\n",
    "    ax.plot([x], [y], \"ko\", ms=2, alpha=0.6)\n",
    "    ax.annotate(lb, \n",
    "                xy=(x, y),\n",
    "             xycoords=\"data\",\n",
    "             xytext=(0, 20),\n",
    "             textcoords=\"offset points\",\n",
    "             arrowprops={\"arrowstyle\" : \"->\"})\n",
    "\n",
    "    x, y = x_0_2[0], x_0_2[1]\n",
    "    lb = r\"\\$x_0 = ($(x), $(y))\\$\"\n",
    "    ax.plot([x], [y], \"ko\", ms=2, alpha=0.6)\n",
    "    ax.annotate(lb, \n",
    "                xy=(x, y),\n",
    "             xycoords=\"data\",\n",
    "             xytext=(0, 20),\n",
    "             textcoords=\"offset points\",\n",
    "             arrowprops={\"arrowstyle\" : \"->\"})\n",
    "\n",
    "    if savefig:\n",
    "        fig.savefig(figname)\n",
    "\n",
    "\n",
    "\n",
    "def plot_growth(savefig=False, figname=\"../figures/lake_2.pdf\"):\n",
    "\n",
    "    path_length = 100\n",
    "    x_0 = 2.1, 1.2\n",
    "    x = np.zeros((2, path_length))\n",
    "    x[0, 0] = 0.6 \n",
    "    x[1, 0] = 1.2\n",
    "\n",
    "    for t in range(path_length-1):\n",
    "        x[:, t+1] = A * x[:, t]\n",
    "\n",
    "    fig, axes = plt.subplots(3, 1)\n",
    "    u = x[0, :]\n",
    "    e = x[1, :]\n",
    "    n = x[0, :] + x[1, :]\n",
    "    paths = u, e, n\n",
    "    labels = r\"$u_t$\", r\"$e_t$\", r\"$n_t$\"\n",
    "    for (ax, path, label) in zip(axes, paths, labels):\n",
    "        ax.plot(path, label=label)\n",
    "        ax.legend(frameon=False, fontsize=14)\n",
    "        ax.set_xlabel(r\"t\")\n",
    "    \n",
    "    plt.tight_layout()\n",
    "    if savefig:\n",
    "        fig.savefig(figname)"
   ]
  },
  {
   "cell_type": "code",
   "execution_count": 2,
   "id": "bf27b743",
   "metadata": {},
   "outputs": [
    {
     "ename": "ValueError",
     "evalue": "shapes (2,2) and (1,2) not aligned: 2 (dim 1) != 1 (dim 0)",
     "output_type": "error",
     "traceback": [
      "\u001b[1;31m---------------------------------------------------------------------------\u001b[0m",
      "\u001b[1;31mValueError\u001b[0m                                Traceback (most recent call last)",
      "Cell \u001b[1;32mIn[2], line 1\u001b[0m\n\u001b[1;32m----> 1\u001b[0m \u001b[43mplot_paths\u001b[49m\u001b[43m(\u001b[49m\u001b[43msavefig\u001b[49m\u001b[38;5;241;43m=\u001b[39;49m\u001b[38;5;28;43;01mTrue\u001b[39;49;00m\u001b[43m)\u001b[49m\n",
      "Cell \u001b[1;32mIn[1], line 34\u001b[0m, in \u001b[0;36mplot_paths\u001b[1;34m(figname, savefig)\u001b[0m\n\u001b[0;32m     30\u001b[0m x_path_2[\u001b[38;5;241m1\u001b[39m, \u001b[38;5;241m0\u001b[39m] \u001b[38;5;241m=\u001b[39m x_0_2[\u001b[38;5;241m1\u001b[39m]\n\u001b[0;32m     33\u001b[0m \u001b[38;5;28;01mfor\u001b[39;00m t \u001b[38;5;129;01min\u001b[39;00m \u001b[38;5;28mrange\u001b[39m(path_length\u001b[38;5;241m-\u001b[39m\u001b[38;5;241m1\u001b[39m):\n\u001b[1;32m---> 34\u001b[0m     x_path_1[:, t\u001b[38;5;241m+\u001b[39m\u001b[38;5;241m1\u001b[39m] \u001b[38;5;241m=\u001b[39m \u001b[43mA\u001b[49m\u001b[43m \u001b[49m\u001b[38;5;241;43m*\u001b[39;49m\u001b[43m \u001b[49m\u001b[43mx_path_1\u001b[49m\u001b[43m[\u001b[49m\u001b[43m:\u001b[49m\u001b[43m,\u001b[49m\u001b[43m \u001b[49m\u001b[43mt\u001b[49m\u001b[43m]\u001b[49m\n\u001b[0;32m     35\u001b[0m     x_path_2[:, t\u001b[38;5;241m+\u001b[39m\u001b[38;5;241m1\u001b[39m] \u001b[38;5;241m=\u001b[39m A \u001b[38;5;241m*\u001b[39m x_path_2[:, t]\n\u001b[0;32m     38\u001b[0m fig, ax \u001b[38;5;241m=\u001b[39m plt\u001b[38;5;241m.\u001b[39msubplots()\n",
      "File \u001b[1;32m~\\mambaforge\\envs\\pyFin\\Lib\\site-packages\\numpy\\matrixlib\\defmatrix.py:218\u001b[0m, in \u001b[0;36mmatrix.__mul__\u001b[1;34m(self, other)\u001b[0m\n\u001b[0;32m    215\u001b[0m \u001b[38;5;28;01mdef\u001b[39;00m \u001b[38;5;21m__mul__\u001b[39m(\u001b[38;5;28mself\u001b[39m, other):\n\u001b[0;32m    216\u001b[0m     \u001b[38;5;28;01mif\u001b[39;00m \u001b[38;5;28misinstance\u001b[39m(other, (N\u001b[38;5;241m.\u001b[39mndarray, \u001b[38;5;28mlist\u001b[39m, \u001b[38;5;28mtuple\u001b[39m)) :\n\u001b[0;32m    217\u001b[0m         \u001b[38;5;66;03m# This promotes 1-D vectors to row vectors\u001b[39;00m\n\u001b[1;32m--> 218\u001b[0m         \u001b[38;5;28;01mreturn\u001b[39;00m \u001b[43mN\u001b[49m\u001b[38;5;241;43m.\u001b[39;49m\u001b[43mdot\u001b[49m\u001b[43m(\u001b[49m\u001b[38;5;28;43mself\u001b[39;49m\u001b[43m,\u001b[49m\u001b[43m \u001b[49m\u001b[43masmatrix\u001b[49m\u001b[43m(\u001b[49m\u001b[43mother\u001b[49m\u001b[43m)\u001b[49m\u001b[43m)\u001b[49m\n\u001b[0;32m    219\u001b[0m     \u001b[38;5;28;01mif\u001b[39;00m isscalar(other) \u001b[38;5;129;01mor\u001b[39;00m \u001b[38;5;129;01mnot\u001b[39;00m \u001b[38;5;28mhasattr\u001b[39m(other, \u001b[38;5;124m'\u001b[39m\u001b[38;5;124m__rmul__\u001b[39m\u001b[38;5;124m'\u001b[39m) :\n\u001b[0;32m    220\u001b[0m         \u001b[38;5;28;01mreturn\u001b[39;00m N\u001b[38;5;241m.\u001b[39mdot(\u001b[38;5;28mself\u001b[39m, other)\n",
      "File \u001b[1;32m<__array_function__ internals>:200\u001b[0m, in \u001b[0;36mdot\u001b[1;34m(*args, **kwargs)\u001b[0m\n",
      "\u001b[1;31mValueError\u001b[0m: shapes (2,2) and (1,2) not aligned: 2 (dim 1) != 1 (dim 0)"
     ]
    }
   ],
   "source": [
    "plot_paths(savefig=True)"
   ]
  },
  {
   "cell_type": "code",
   "execution_count": 3,
   "id": "4b2c2a98",
   "metadata": {},
   "outputs": [
    {
     "ename": "ValueError",
     "evalue": "shapes (2,2) and (1,2) not aligned: 2 (dim 1) != 1 (dim 0)",
     "output_type": "error",
     "traceback": [
      "\u001b[1;31m---------------------------------------------------------------------------\u001b[0m",
      "\u001b[1;31mValueError\u001b[0m                                Traceback (most recent call last)",
      "Cell \u001b[1;32mIn[3], line 1\u001b[0m\n\u001b[1;32m----> 1\u001b[0m \u001b[43mplot_growth\u001b[49m\u001b[43m(\u001b[49m\u001b[43msavefig\u001b[49m\u001b[38;5;241;43m=\u001b[39;49m\u001b[38;5;28;43;01mTrue\u001b[39;49;00m\u001b[43m)\u001b[49m\n",
      "Cell \u001b[1;32mIn[1], line 99\u001b[0m, in \u001b[0;36mplot_growth\u001b[1;34m(savefig, figname)\u001b[0m\n\u001b[0;32m     96\u001b[0m x[\u001b[38;5;241m1\u001b[39m, \u001b[38;5;241m0\u001b[39m] \u001b[38;5;241m=\u001b[39m \u001b[38;5;241m1.2\u001b[39m\n\u001b[0;32m     98\u001b[0m \u001b[38;5;28;01mfor\u001b[39;00m t \u001b[38;5;129;01min\u001b[39;00m \u001b[38;5;28mrange\u001b[39m(path_length\u001b[38;5;241m-\u001b[39m\u001b[38;5;241m1\u001b[39m):\n\u001b[1;32m---> 99\u001b[0m     x[:, t\u001b[38;5;241m+\u001b[39m\u001b[38;5;241m1\u001b[39m] \u001b[38;5;241m=\u001b[39m \u001b[43mA\u001b[49m\u001b[43m \u001b[49m\u001b[38;5;241;43m*\u001b[39;49m\u001b[43m \u001b[49m\u001b[43mx\u001b[49m\u001b[43m[\u001b[49m\u001b[43m:\u001b[49m\u001b[43m,\u001b[49m\u001b[43m \u001b[49m\u001b[43mt\u001b[49m\u001b[43m]\u001b[49m\n\u001b[0;32m    101\u001b[0m fig, axes \u001b[38;5;241m=\u001b[39m plt\u001b[38;5;241m.\u001b[39msubplots(\u001b[38;5;241m3\u001b[39m, \u001b[38;5;241m1\u001b[39m)\n\u001b[0;32m    102\u001b[0m u \u001b[38;5;241m=\u001b[39m x[\u001b[38;5;241m0\u001b[39m, :]\n",
      "File \u001b[1;32m~\\mambaforge\\envs\\pyFin\\Lib\\site-packages\\numpy\\matrixlib\\defmatrix.py:218\u001b[0m, in \u001b[0;36mmatrix.__mul__\u001b[1;34m(self, other)\u001b[0m\n\u001b[0;32m    215\u001b[0m \u001b[38;5;28;01mdef\u001b[39;00m \u001b[38;5;21m__mul__\u001b[39m(\u001b[38;5;28mself\u001b[39m, other):\n\u001b[0;32m    216\u001b[0m     \u001b[38;5;28;01mif\u001b[39;00m \u001b[38;5;28misinstance\u001b[39m(other, (N\u001b[38;5;241m.\u001b[39mndarray, \u001b[38;5;28mlist\u001b[39m, \u001b[38;5;28mtuple\u001b[39m)) :\n\u001b[0;32m    217\u001b[0m         \u001b[38;5;66;03m# This promotes 1-D vectors to row vectors\u001b[39;00m\n\u001b[1;32m--> 218\u001b[0m         \u001b[38;5;28;01mreturn\u001b[39;00m \u001b[43mN\u001b[49m\u001b[38;5;241;43m.\u001b[39;49m\u001b[43mdot\u001b[49m\u001b[43m(\u001b[49m\u001b[38;5;28;43mself\u001b[39;49m\u001b[43m,\u001b[49m\u001b[43m \u001b[49m\u001b[43masmatrix\u001b[49m\u001b[43m(\u001b[49m\u001b[43mother\u001b[49m\u001b[43m)\u001b[49m\u001b[43m)\u001b[49m\n\u001b[0;32m    219\u001b[0m     \u001b[38;5;28;01mif\u001b[39;00m isscalar(other) \u001b[38;5;129;01mor\u001b[39;00m \u001b[38;5;129;01mnot\u001b[39;00m \u001b[38;5;28mhasattr\u001b[39m(other, \u001b[38;5;124m'\u001b[39m\u001b[38;5;124m__rmul__\u001b[39m\u001b[38;5;124m'\u001b[39m) :\n\u001b[0;32m    220\u001b[0m         \u001b[38;5;28;01mreturn\u001b[39;00m N\u001b[38;5;241m.\u001b[39mdot(\u001b[38;5;28mself\u001b[39m, other)\n",
      "File \u001b[1;32m<__array_function__ internals>:200\u001b[0m, in \u001b[0;36mdot\u001b[1;34m(*args, **kwargs)\u001b[0m\n",
      "\u001b[1;31mValueError\u001b[0m: shapes (2,2) and (1,2) not aligned: 2 (dim 1) != 1 (dim 0)"
     ]
    }
   ],
   "source": [
    "plot_growth(savefig=True)"
   ]
  }
 ],
 "metadata": {
  "jupytext": {
   "text_representation": {
    "extension": ".md",
    "format_name": "myst"
   }
  },
  "kernelspec": {
   "display_name": "Python 3",
   "language": "python",
   "name": "python3"
  },
  "language_info": {
   "codemirror_mode": {
    "name": "ipython",
    "version": 3
   },
   "file_extension": ".py",
   "mimetype": "text/x-python",
   "name": "python",
   "nbconvert_exporter": "python",
   "pygments_lexer": "ipython3",
   "version": "3.11.4"
  },
  "source_map": [
   10,
   30,
   149,
   153
  ]
 },
 "nbformat": 4,
 "nbformat_minor": 5
}